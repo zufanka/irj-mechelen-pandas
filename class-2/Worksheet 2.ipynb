{
 "cells": [
  {
   "cell_type": "markdown",
   "metadata": {},
   "source": [
    "## Financial Transparency System\n",
    "\n",
    "The [FTS](http://ec.europa.eu/budget/fts/index_en.htm) contains names of the beneficiaries of funds awarded by the Commission every year of the following sources of funding:\n",
    "\n",
    "- EU budget\n",
    "- European Development Fund\n",
    "\n",
    "[read more on the data](http://ec.europa.eu/budget/fts/about_en.htm)\n",
    "\n",
    "---\n",
    "\n",
    "The EU also publishes [the raw data](https://data.europa.eu/euodp/en/data/dataset/FTS)\n",
    "\n",
    "\n"
   ]
  },
  {
   "cell_type": "code",
   "execution_count": 3,
   "metadata": {
    "collapsed": true
   },
   "outputs": [],
   "source": [
    "import pandas as pd\n",
    "import numpy as np\n",
    "from glob import glob\n",
    "pd.set_option(\"max_info_columns\", 150)\n",
    "pd.set_option('max_colwidth',40)\n",
    "pd.options.display.float_format = '{:,.2f}'.format\n",
    "%matplotlib inline"
   ]
  },
  {
   "cell_type": "markdown",
   "metadata": {},
   "source": [
    "### Read the csv"
   ]
  },
  {
   "cell_type": "code",
   "execution_count": 5,
   "metadata": {
    "collapsed": false
   },
   "outputs": [],
   "source": [
    "dataset = pd.read_csv(\"FTS_2013-2014.csv\")"
   ]
  },
  {
   "cell_type": "markdown",
   "metadata": {},
   "source": [
    "### Look at the first 10 rows of the dataset"
   ]
  },
  {
   "cell_type": "code",
   "execution_count": 8,
   "metadata": {
    "collapsed": false
   },
   "outputs": [
    {
     "data": {
      "text/html": [
       "<div>\n",
       "<table border=\"1\" class=\"dataframe\">\n",
       "  <thead>\n",
       "    <tr style=\"text-align: right;\">\n",
       "      <th></th>\n",
       "      <th>Year</th>\n",
       "      <th>Name of beneficiary</th>\n",
       "      <th>Coordinator</th>\n",
       "      <th>VAT Number of beneficiary</th>\n",
       "      <th>Address</th>\n",
       "      <th>City</th>\n",
       "      <th>Postal code</th>\n",
       "      <th>Country / Territory</th>\n",
       "      <th>Amount</th>\n",
       "      <th>Geographical Zone</th>\n",
       "      <th>Expense Type</th>\n",
       "      <th>Commitment position key</th>\n",
       "      <th>Subject of grant or contract</th>\n",
       "      <th>Responsible Department</th>\n",
       "      <th>Budget line name and number</th>\n",
       "      <th>Action Type</th>\n",
       "      <th>Funding Type</th>\n",
       "      <th>NUTS2</th>\n",
       "    </tr>\n",
       "  </thead>\n",
       "  <tbody>\n",
       "    <tr>\n",
       "      <th>0</th>\n",
       "      <td>2014</td>\n",
       "      <td>REPUBLIQUE D HAITI* REPUBLIC OFHAITI</td>\n",
       "      <td>0</td>\n",
       "      <td>NaN</td>\n",
       "      <td>-</td>\n",
       "      <td>-</td>\n",
       "      <td>NaN</td>\n",
       "      <td>Haiti</td>\n",
       "      <td>100,000,000.00</td>\n",
       "      <td>Haiti</td>\n",
       "      <td>Operational</td>\n",
       "      <td>AID.CTR.344947.01.1</td>\n",
       "      <td>STATE BUILDING CONTRACT</td>\n",
       "      <td>Directorate-General for Development ...</td>\n",
       "      <td>A Envelope - programmable aid (02.10...</td>\n",
       "      <td>02 Enterprise and industry</td>\n",
       "      <td>Budget support</td>\n",
       "      <td>NaN</td>\n",
       "    </tr>\n",
       "    <tr>\n",
       "      <th>1</th>\n",
       "      <td>2014</td>\n",
       "      <td>REPUBLIC OF GHANA* REPUBLIQUE DUGHANA</td>\n",
       "      <td>0</td>\n",
       "      <td>NaN</td>\n",
       "      <td>-</td>\n",
       "      <td>-</td>\n",
       "      <td>NaN</td>\n",
       "      <td>Ghana</td>\n",
       "      <td>48,326,731.54</td>\n",
       "      <td>Ghana</td>\n",
       "      <td>Operational</td>\n",
       "      <td>AID.CTR.343309.01.1</td>\n",
       "      <td>Allocation of the residual European ...</td>\n",
       "      <td>Directorate-General for Development ...</td>\n",
       "      <td>A Envelope - programmable aid (02.10...</td>\n",
       "      <td>02 Enterprise and industry</td>\n",
       "      <td>Budget support</td>\n",
       "      <td>NaN</td>\n",
       "    </tr>\n",
       "    <tr>\n",
       "      <th>2</th>\n",
       "      <td>2014</td>\n",
       "      <td>YE LTYOPPYA FEDERALAWI DIMOKRASIYAWI...</td>\n",
       "      <td>0</td>\n",
       "      <td>NaN</td>\n",
       "      <td>-</td>\n",
       "      <td>-</td>\n",
       "      <td>NaN</td>\n",
       "      <td>Ethiopia</td>\n",
       "      <td>30,000,000.00</td>\n",
       "      <td>Ethiopia</td>\n",
       "      <td>Operational</td>\n",
       "      <td>AID.CTR.346145.01.1</td>\n",
       "      <td>SPSP-FIXED TRANCHE-INDIVIDUAL COMMIT...</td>\n",
       "      <td>Directorate-General for Development ...</td>\n",
       "      <td>A Envelope - programmable aid (02.10...</td>\n",
       "      <td>02 Enterprise and industry</td>\n",
       "      <td>Budget support</td>\n",
       "      <td>NaN</td>\n",
       "    </tr>\n",
       "    <tr>\n",
       "      <th>3</th>\n",
       "      <td>2014</td>\n",
       "      <td>REPUBLIKA Y U RWANDA*REPUBLIQUE RWAN...</td>\n",
       "      <td>0</td>\n",
       "      <td>NaN</td>\n",
       "      <td>-</td>\n",
       "      <td>-</td>\n",
       "      <td>NaN</td>\n",
       "      <td>Rwanda</td>\n",
       "      <td>28,000,000.00</td>\n",
       "      <td>Rwanda</td>\n",
       "      <td>Operational</td>\n",
       "      <td>AID.CTR.342984.01.1</td>\n",
       "      <td>Sector Reform Contract (SRC) to Supp...</td>\n",
       "      <td>Directorate-General for Development ...</td>\n",
       "      <td>A Envelope - programmable aid (02.10...</td>\n",
       "      <td>02 Enterprise and industry</td>\n",
       "      <td>Budget support</td>\n",
       "      <td>NaN</td>\n",
       "    </tr>\n",
       "    <tr>\n",
       "      <th>4</th>\n",
       "      <td>2014</td>\n",
       "      <td>REPUBLIQUE DE COTE D IVOIRE*REPUBLIC...</td>\n",
       "      <td>0</td>\n",
       "      <td>NaN</td>\n",
       "      <td>-</td>\n",
       "      <td>-</td>\n",
       "      <td>NaN</td>\n",
       "      <td>Ivory coast</td>\n",
       "      <td>27,000,000.00</td>\n",
       "      <td>Ivory Coast</td>\n",
       "      <td>Operational</td>\n",
       "      <td>AID.CTR.337332.01.1</td>\n",
       "      <td>Avenant 1 - Programme d'appui budgét...</td>\n",
       "      <td>Directorate-General for Development ...</td>\n",
       "      <td>A Envelope - programmable aid (02.10...</td>\n",
       "      <td>02 Enterprise and industry</td>\n",
       "      <td>Budget support</td>\n",
       "      <td>NaN</td>\n",
       "    </tr>\n",
       "    <tr>\n",
       "      <th>5</th>\n",
       "      <td>2014</td>\n",
       "      <td>REPUBLICA DE MOCAMBIQUE*REPUBLIQUEDU...</td>\n",
       "      <td>0</td>\n",
       "      <td>NaN</td>\n",
       "      <td>-</td>\n",
       "      <td>-</td>\n",
       "      <td>NaN</td>\n",
       "      <td>Mozambique</td>\n",
       "      <td>23,540,000.00</td>\n",
       "      <td>Mozambique</td>\n",
       "      <td>Operational</td>\n",
       "      <td>AID.CTR.341958.01.1</td>\n",
       "      <td>MDG Contract - FLEX 2011 - MOZAMBIQUE</td>\n",
       "      <td>Directorate-General for Development ...</td>\n",
       "      <td>B Envelope - Non-programmable aid - ...</td>\n",
       "      <td>02 Enterprise and industry</td>\n",
       "      <td>Budget support</td>\n",
       "      <td>NaN</td>\n",
       "    </tr>\n",
       "    <tr>\n",
       "      <th>6</th>\n",
       "      <td>2014</td>\n",
       "      <td>CENTRE REGIONAL AGRHYMET*CENTRE AGRH...</td>\n",
       "      <td>1</td>\n",
       "      <td>NaN</td>\n",
       "      <td>BOULEVARD DE UNIVERSITE 425</td>\n",
       "      <td>NIAMEY</td>\n",
       "      <td>11011</td>\n",
       "      <td>Niger</td>\n",
       "      <td>18,000,000.00</td>\n",
       "      <td>West Africa Region</td>\n",
       "      <td>Operational</td>\n",
       "      <td>AID.CTR.346010.01.1</td>\n",
       "      <td>Appui à lopérationnalisation du « S...</td>\n",
       "      <td>Directorate-General for Development ...</td>\n",
       "      <td>Regional indicative programme (02.40...</td>\n",
       "      <td>02 Enterprise and industry</td>\n",
       "      <td>Grants</td>\n",
       "      <td>NaN</td>\n",
       "    </tr>\n",
       "    <tr>\n",
       "      <th>7</th>\n",
       "      <td>2014</td>\n",
       "      <td>CO OPERATIVE REPUBLIC OF GUYANA*REPU...</td>\n",
       "      <td>0</td>\n",
       "      <td>NaN</td>\n",
       "      <td>-</td>\n",
       "      <td>-</td>\n",
       "      <td>NaN</td>\n",
       "      <td>Guyana</td>\n",
       "      <td>14,100,000.00</td>\n",
       "      <td>Guyana</td>\n",
       "      <td>Operational</td>\n",
       "      <td>AID.CTR.338880.01.1</td>\n",
       "      <td>Sea and River Defence Sector Budget ...</td>\n",
       "      <td>Directorate-General for Development ...</td>\n",
       "      <td>A Envelope - programmable aid (02.10...</td>\n",
       "      <td>02 Enterprise and industry</td>\n",
       "      <td>Budget support</td>\n",
       "      <td>NaN</td>\n",
       "    </tr>\n",
       "    <tr>\n",
       "      <th>8</th>\n",
       "      <td>2014</td>\n",
       "      <td>REPUBLIC OF SIERRA LEONE*REPUBLIQUED...</td>\n",
       "      <td>0</td>\n",
       "      <td>NaN</td>\n",
       "      <td>-</td>\n",
       "      <td>-</td>\n",
       "      <td>NaN</td>\n",
       "      <td>Sierra Leone</td>\n",
       "      <td>12,633,333.00</td>\n",
       "      <td>Sierra Leone</td>\n",
       "      <td>Operational</td>\n",
       "      <td>AID.CTR.352534.01.1</td>\n",
       "      <td>State Building Contract - Special Tr...</td>\n",
       "      <td>Directorate-General for Development ...</td>\n",
       "      <td>A Envelope - programmable aid (02.10...</td>\n",
       "      <td>02 Enterprise and industry</td>\n",
       "      <td>Budget support</td>\n",
       "      <td>NaN</td>\n",
       "    </tr>\n",
       "    <tr>\n",
       "      <th>9</th>\n",
       "      <td>2014</td>\n",
       "      <td>BURKINA FASO*</td>\n",
       "      <td>0</td>\n",
       "      <td>NaN</td>\n",
       "      <td>-</td>\n",
       "      <td>-</td>\n",
       "      <td>NaN</td>\n",
       "      <td>Burkina Faso</td>\n",
       "      <td>12,500,000.00</td>\n",
       "      <td>Burkina Faso</td>\n",
       "      <td>Operational</td>\n",
       "      <td>AID.CTR.338068.01.1</td>\n",
       "      <td>Contrat OMD - appui budgétaire pour ...</td>\n",
       "      <td>Directorate-General for Development ...</td>\n",
       "      <td>A Envelope - programmable aid (02.10...</td>\n",
       "      <td>02 Enterprise and industry</td>\n",
       "      <td>Budget support</td>\n",
       "      <td>NaN</td>\n",
       "    </tr>\n",
       "  </tbody>\n",
       "</table>\n",
       "</div>"
      ],
      "text/plain": [
       "   Year                      Name of beneficiary Coordinator  \\\n",
       "0  2014     REPUBLIQUE D HAITI* REPUBLIC OFHAITI           0   \n",
       "1  2014    REPUBLIC OF GHANA* REPUBLIQUE DUGHANA           0   \n",
       "2  2014  YE LTYOPPYA FEDERALAWI DIMOKRASIYAWI...           0   \n",
       "3  2014  REPUBLIKA Y U RWANDA*REPUBLIQUE RWAN...           0   \n",
       "4  2014  REPUBLIQUE DE COTE D IVOIRE*REPUBLIC...           0   \n",
       "5  2014  REPUBLICA DE MOCAMBIQUE*REPUBLIQUEDU...           0   \n",
       "6  2014  CENTRE REGIONAL AGRHYMET*CENTRE AGRH...           1   \n",
       "7  2014  CO OPERATIVE REPUBLIC OF GUYANA*REPU...           0   \n",
       "8  2014  REPUBLIC OF SIERRA LEONE*REPUBLIQUED...           0   \n",
       "9  2014                            BURKINA FASO*           0   \n",
       "\n",
       "  VAT Number of beneficiary                      Address    City Postal code  \\\n",
       "0                       NaN                            -       -         NaN   \n",
       "1                       NaN                            -       -         NaN   \n",
       "2                       NaN                            -       -         NaN   \n",
       "3                       NaN                            -       -         NaN   \n",
       "4                       NaN                            -       -         NaN   \n",
       "5                       NaN                            -       -         NaN   \n",
       "6                       NaN  BOULEVARD DE UNIVERSITE 425  NIAMEY       11011   \n",
       "7                       NaN                            -       -         NaN   \n",
       "8                       NaN                            -       -         NaN   \n",
       "9                       NaN                            -       -         NaN   \n",
       "\n",
       "  Country / Territory         Amount   Geographical Zone Expense Type  \\\n",
       "0               Haiti 100,000,000.00               Haiti  Operational   \n",
       "1               Ghana  48,326,731.54               Ghana  Operational   \n",
       "2            Ethiopia  30,000,000.00            Ethiopia  Operational   \n",
       "3              Rwanda  28,000,000.00              Rwanda  Operational   \n",
       "4         Ivory coast  27,000,000.00         Ivory Coast  Operational   \n",
       "5          Mozambique  23,540,000.00          Mozambique  Operational   \n",
       "6               Niger  18,000,000.00  West Africa Region  Operational   \n",
       "7              Guyana  14,100,000.00              Guyana  Operational   \n",
       "8        Sierra Leone  12,633,333.00        Sierra Leone  Operational   \n",
       "9        Burkina Faso  12,500,000.00        Burkina Faso  Operational   \n",
       "\n",
       "  Commitment position key             Subject of grant or contract  \\\n",
       "0     AID.CTR.344947.01.1                  STATE BUILDING CONTRACT   \n",
       "1     AID.CTR.343309.01.1  Allocation of the residual European ...   \n",
       "2     AID.CTR.346145.01.1  SPSP-FIXED TRANCHE-INDIVIDUAL COMMIT...   \n",
       "3     AID.CTR.342984.01.1  Sector Reform Contract (SRC) to Supp...   \n",
       "4     AID.CTR.337332.01.1  Avenant 1 - Programme d'appui budgét...   \n",
       "5     AID.CTR.341958.01.1    MDG Contract - FLEX 2011 - MOZAMBIQUE   \n",
       "6     AID.CTR.346010.01.1  Appui à lopérationnalisation du « S...   \n",
       "7     AID.CTR.338880.01.1  Sea and River Defence Sector Budget ...   \n",
       "8     AID.CTR.352534.01.1  State Building Contract - Special Tr...   \n",
       "9     AID.CTR.338068.01.1  Contrat OMD - appui budgétaire pour ...   \n",
       "\n",
       "                    Responsible Department  \\\n",
       "0  Directorate-General for Development ...   \n",
       "1  Directorate-General for Development ...   \n",
       "2  Directorate-General for Development ...   \n",
       "3  Directorate-General for Development ...   \n",
       "4  Directorate-General for Development ...   \n",
       "5  Directorate-General for Development ...   \n",
       "6  Directorate-General for Development ...   \n",
       "7  Directorate-General for Development ...   \n",
       "8  Directorate-General for Development ...   \n",
       "9  Directorate-General for Development ...   \n",
       "\n",
       "               Budget line name and number                 Action Type  \\\n",
       "0  A Envelope - programmable aid (02.10...  02 Enterprise and industry   \n",
       "1  A Envelope - programmable aid (02.10...  02 Enterprise and industry   \n",
       "2  A Envelope - programmable aid (02.10...  02 Enterprise and industry   \n",
       "3  A Envelope - programmable aid (02.10...  02 Enterprise and industry   \n",
       "4  A Envelope - programmable aid (02.10...  02 Enterprise and industry   \n",
       "5  B Envelope - Non-programmable aid - ...  02 Enterprise and industry   \n",
       "6  Regional indicative programme (02.40...  02 Enterprise and industry   \n",
       "7  A Envelope - programmable aid (02.10...  02 Enterprise and industry   \n",
       "8  A Envelope - programmable aid (02.10...  02 Enterprise and industry   \n",
       "9  A Envelope - programmable aid (02.10...  02 Enterprise and industry   \n",
       "\n",
       "     Funding Type NUTS2  \n",
       "0  Budget support   NaN  \n",
       "1  Budget support   NaN  \n",
       "2  Budget support   NaN  \n",
       "3  Budget support   NaN  \n",
       "4  Budget support   NaN  \n",
       "5  Budget support   NaN  \n",
       "6          Grants   NaN  \n",
       "7  Budget support   NaN  \n",
       "8  Budget support   NaN  \n",
       "9  Budget support   NaN  "
      ]
     },
     "execution_count": 8,
     "metadata": {},
     "output_type": "execute_result"
    }
   ],
   "source": [
    "dataset.head(10)"
   ]
  },
  {
   "cell_type": "markdown",
   "metadata": {},
   "source": [
    "### What names and types of columns do you have in the dataset?"
   ]
  },
  {
   "cell_type": "code",
   "execution_count": 10,
   "metadata": {
    "collapsed": false
   },
   "outputs": [
    {
     "name": "stdout",
     "output_type": "stream",
     "text": [
      "<class 'pandas.core.frame.DataFrame'>\n",
      "RangeIndex: 93536 entries, 0 to 93535\n",
      "Data columns (total 18 columns):\n",
      "Year                            93536 non-null int64\n",
      "Name of beneficiary             93536 non-null object\n",
      "Coordinator                     93536 non-null object\n",
      "VAT Number of beneficiary       80582 non-null object\n",
      "Address                         93536 non-null object\n",
      "City                            93536 non-null object\n",
      "Postal code                     89751 non-null object\n",
      "Country / Territory             93536 non-null object\n",
      "Amount                          93350 non-null float64\n",
      "Geographical Zone               13617 non-null object\n",
      "Expense Type                    93536 non-null object\n",
      "Commitment position key         93536 non-null object\n",
      "Subject of grant or contract    92390 non-null object\n",
      "Responsible Department          93535 non-null object\n",
      "Budget line name and number     93534 non-null object\n",
      "Action Type                     93018 non-null object\n",
      "Funding Type                    92732 non-null object\n",
      "NUTS2                           4068 non-null object\n",
      "dtypes: float64(1), int64(1), object(16)\n",
      "memory usage: 12.8+ MB\n"
     ]
    }
   ],
   "source": [
    "dataset.info()"
   ]
  },
  {
   "cell_type": "markdown",
   "metadata": {},
   "source": [
    "### How much data are you missing?"
   ]
  },
  {
   "cell_type": "code",
   "execution_count": 18,
   "metadata": {
    "collapsed": false
   },
   "outputs": [
    {
     "data": {
      "text/plain": [
       "Year                                0\n",
       "Name of beneficiary                 0\n",
       "Coordinator                         0\n",
       "VAT Number of beneficiary       12954\n",
       "Address                             0\n",
       "City                                0\n",
       "Postal code                      3785\n",
       "Country / Territory                 0\n",
       "Amount                            186\n",
       "Geographical Zone               79919\n",
       "Expense Type                        0\n",
       "Commitment position key             0\n",
       "Subject of grant or contract     1146\n",
       "Responsible Department              1\n",
       "Budget line name and number         2\n",
       "Action Type                       518\n",
       "Funding Type                      804\n",
       "NUTS2                           89468\n",
       "dtype: int64"
      ]
     },
     "execution_count": 18,
     "metadata": {},
     "output_type": "execute_result"
    }
   ],
   "source": [
    "dataset.isnull().sum()"
   ]
  },
  {
   "cell_type": "markdown",
   "metadata": {},
   "source": [
    "### What were the 10 most expensive projects?"
   ]
  },
  {
   "cell_type": "code",
   "execution_count": 19,
   "metadata": {
    "collapsed": false
   },
   "outputs": [
    {
     "data": {
      "text/html": [
       "<div>\n",
       "<table border=\"1\" class=\"dataframe\">\n",
       "  <thead>\n",
       "    <tr style=\"text-align: right;\">\n",
       "      <th></th>\n",
       "      <th>Year</th>\n",
       "      <th>Name of beneficiary</th>\n",
       "      <th>Coordinator</th>\n",
       "      <th>VAT Number of beneficiary</th>\n",
       "      <th>Address</th>\n",
       "      <th>City</th>\n",
       "      <th>Postal code</th>\n",
       "      <th>Country / Territory</th>\n",
       "      <th>Amount</th>\n",
       "      <th>Geographical Zone</th>\n",
       "      <th>Expense Type</th>\n",
       "      <th>Commitment position key</th>\n",
       "      <th>Subject of grant or contract</th>\n",
       "      <th>Responsible Department</th>\n",
       "      <th>Budget line name and number</th>\n",
       "      <th>Action Type</th>\n",
       "      <th>Funding Type</th>\n",
       "      <th>NUTS2</th>\n",
       "    </tr>\n",
       "  </thead>\n",
       "  <tbody>\n",
       "    <tr>\n",
       "      <th>889</th>\n",
       "      <td>2013</td>\n",
       "      <td>'REPUBLIQUE FRANCAISE*FRENCH REPUBLI...</td>\n",
       "      <td>1;0</td>\n",
       "      <td>;</td>\n",
       "      <td>-;-</td>\n",
       "      <td>-;-</td>\n",
       "      <td>;</td>\n",
       "      <td>France;Italy</td>\n",
       "      <td>272,856,706.00</td>\n",
       "      <td>NaN</td>\n",
       "      <td>Operational</td>\n",
       "      <td>SI2.516191.8</td>\n",
       "      <td>2007-EU-06010-P : Nouvelle liaison f...</td>\n",
       "      <td>Trans-European Transport Network Exe...</td>\n",
       "      <td>Financial support for projects of co...</td>\n",
       "      <td>TEN-T: Trans-European Transport netw...</td>\n",
       "      <td>Grants</td>\n",
       "      <td>NaN</td>\n",
       "    </tr>\n",
       "    <tr>\n",
       "      <th>61770</th>\n",
       "      <td>2013</td>\n",
       "      <td>REPUBLIQUE DU MALI*REPUBLIC OF MALI</td>\n",
       "      <td>0</td>\n",
       "      <td>NaN</td>\n",
       "      <td>-</td>\n",
       "      <td>-</td>\n",
       "      <td>NaN</td>\n",
       "      <td>Mali</td>\n",
       "      <td>220,000,000.00</td>\n",
       "      <td>Mali</td>\n",
       "      <td>Operational</td>\n",
       "      <td>AID.CTR.320473.01.1</td>\n",
       "      <td>Partie aide budgétaire globale du co...</td>\n",
       "      <td>Directorate-General for Development ...</td>\n",
       "      <td>A Envelope - programmable aid (02.10...</td>\n",
       "      <td>NaN</td>\n",
       "      <td>Budget support</td>\n",
       "      <td>NaN</td>\n",
       "    </tr>\n",
       "    <tr>\n",
       "      <th>63212</th>\n",
       "      <td>2015</td>\n",
       "      <td>REINO DE ESPANA*ROYAUME D ESPAGNEKIN...</td>\n",
       "      <td>1</td>\n",
       "      <td>NaN</td>\n",
       "      <td>-</td>\n",
       "      <td>-</td>\n",
       "      <td>NaN</td>\n",
       "      <td>Spain</td>\n",
       "      <td>193,348,786.40</td>\n",
       "      <td>NaN</td>\n",
       "      <td>Operational</td>\n",
       "      <td>SI2.717937.1</td>\n",
       "      <td>2014-EU-TM-0600-M INEA/CEF/TRAN/M201...</td>\n",
       "      <td>Innovation and Networks Executive Ag...</td>\n",
       "      <td>Removing bottlenecks and bridging mi...</td>\n",
       "      <td>Connecting Europe Facility (CEF)</td>\n",
       "      <td>Grants</td>\n",
       "      <td>NaN</td>\n",
       "    </tr>\n",
       "    <tr>\n",
       "      <th>33843</th>\n",
       "      <td>2014</td>\n",
       "      <td>UKRAINA*UKRAINE</td>\n",
       "      <td>0</td>\n",
       "      <td>NaN</td>\n",
       "      <td>-</td>\n",
       "      <td>-</td>\n",
       "      <td>NaN</td>\n",
       "      <td>Ukraine</td>\n",
       "      <td>192,000,000.00</td>\n",
       "      <td>Ukraine</td>\n",
       "      <td>Operational</td>\n",
       "      <td>SCR.CTR.344231.02.1</td>\n",
       "      <td>State Building Contract for Ukraine ...</td>\n",
       "      <td>Directorate-General for Development ...</td>\n",
       "      <td>Eastern Partnership — Human rights a...</td>\n",
       "      <td>European Neighbourhood Instrument (ENI)</td>\n",
       "      <td>Budget support</td>\n",
       "      <td>NaN</td>\n",
       "    </tr>\n",
       "    <tr>\n",
       "      <th>63213</th>\n",
       "      <td>2015</td>\n",
       "      <td>ELLINIKI DIMOKRATIA* REPUBLIQUE HELL...</td>\n",
       "      <td>1</td>\n",
       "      <td>NaN</td>\n",
       "      <td>..</td>\n",
       "      <td>.</td>\n",
       "      <td>NaN</td>\n",
       "      <td>Greece</td>\n",
       "      <td>184,769,792.47</td>\n",
       "      <td>NaN</td>\n",
       "      <td>Operational</td>\n",
       "      <td>SI2.717190.1</td>\n",
       "      <td>2014-EL-TMC-0651-W INEA/CEF/TRAN/M20...</td>\n",
       "      <td>Innovation and Networks Executive Ag...</td>\n",
       "      <td>Connecting Europe Facility (CEF) — C...</td>\n",
       "      <td>Cohesion Fund (CF)</td>\n",
       "      <td>Grants</td>\n",
       "      <td>NaN</td>\n",
       "    </tr>\n",
       "    <tr>\n",
       "      <th>63214</th>\n",
       "      <td>2015</td>\n",
       "      <td>COMPANIA NATIONALA DE CAI FERATE CFR...</td>\n",
       "      <td>1</td>\n",
       "      <td>RO11054529</td>\n",
       "      <td>BLVD DINICU GOLESCU 38 SECTOR 1</td>\n",
       "      <td>BUCURESTI</td>\n",
       "      <td>010873</td>\n",
       "      <td>Romania</td>\n",
       "      <td>163,720,222.95</td>\n",
       "      <td>NaN</td>\n",
       "      <td>Operational</td>\n",
       "      <td>SI2.715960.1</td>\n",
       "      <td>THE REHABILITATION OF THE BRASOV  S...</td>\n",
       "      <td>Innovation and Networks Executive Ag...</td>\n",
       "      <td>Connecting Europe Facility (CEF) — C...</td>\n",
       "      <td>Cohesion Fund (CF)</td>\n",
       "      <td>Grants</td>\n",
       "      <td>NaN</td>\n",
       "    </tr>\n",
       "    <tr>\n",
       "      <th>890</th>\n",
       "      <td>2013</td>\n",
       "      <td>'BASTION EUROPEAN INVESTMENTS SA*';'...</td>\n",
       "      <td>0;0;0;0;0;0;0;0;0;0;0;0;0;0;0;0</td>\n",
       "      <td>BE0877881474;;;;FR27552120222;BE0462...</td>\n",
       "      <td>PLACE DU CHAMP DE MARS 5;OUDE LINDES...</td>\n",
       "      <td>BRUXELLES;HEERLEN;JERSEY CHANNEL ISL...</td>\n",
       "      <td>1050;6411 EJ;JE4 8ZB;2517 KJ;75009;1...</td>\n",
       "      <td>Belgium;Netherlands;United Kingdom;N...</td>\n",
       "      <td>151,226,555.27</td>\n",
       "      <td>NaN</td>\n",
       "      <td>Administrative</td>\n",
       "      <td>SI2.642256.1</td>\n",
       "      <td>Redevances acquisitives de biens imm...</td>\n",
       "      <td>Office for Infrastructure and Logist...</td>\n",
       "      <td>Acquisition and renting of buildings...</td>\n",
       "      <td>26 Commission's administration</td>\n",
       "      <td>Provisional commitment followed by p...</td>\n",
       "      <td>NaN</td>\n",
       "    </tr>\n",
       "    <tr>\n",
       "      <th>63215</th>\n",
       "      <td>2015</td>\n",
       "      <td>'ORPAVIMOB SA*';'NIB CAPITAL BANK NV...</td>\n",
       "      <td>0;0;0;0;0;0;0;0;0;0;0;0;0;0;0</td>\n",
       "      <td>;;BE0402236531;BE0424225045;DE118513...</td>\n",
       "      <td>COURS VALMY 17;CARNEGIEPLEIN 4;RUE R...</td>\n",
       "      <td>PUTEAUX;DEN HAAG;BRUXELLES;BRUXELLES...</td>\n",
       "      <td>92800;2517 KJ;1210;1000;65760;;1170;...</td>\n",
       "      <td>France;Netherlands;Belgium;Belgium;G...</td>\n",
       "      <td>144,702,451.00</td>\n",
       "      <td>NaN</td>\n",
       "      <td>Administrative</td>\n",
       "      <td>SI2.697267.1</td>\n",
       "      <td>REDEVANCES ACQUISITIVES DE BIENS IMM...</td>\n",
       "      <td>Office for Infrastructure and Logist...</td>\n",
       "      <td>Acquisition and renting of buildings...</td>\n",
       "      <td>26 Commission’s administration</td>\n",
       "      <td>Provisional commitment followed by p...</td>\n",
       "      <td>NaN</td>\n",
       "    </tr>\n",
       "    <tr>\n",
       "      <th>63216</th>\n",
       "      <td>2015</td>\n",
       "      <td>REPUBBLICA ITALIANA* REPUBLIQUE ITAL...</td>\n",
       "      <td>1</td>\n",
       "      <td>NaN</td>\n",
       "      <td>-</td>\n",
       "      <td>-</td>\n",
       "      <td>NaN</td>\n",
       "      <td>Italy</td>\n",
       "      <td>127,160,000.00</td>\n",
       "      <td>NaN</td>\n",
       "      <td>Operational</td>\n",
       "      <td>SI2.717221.1</td>\n",
       "      <td>2014-EU-TM-0190-W - INEA/CEF/TRAN/M2...</td>\n",
       "      <td>Removing bottlenecks and bridging mi...</td>\n",
       "      <td>Connecting Europe Facility (CEF)</td>\n",
       "      <td>Grants</td>\n",
       "      <td>NaN</td>\n",
       "      <td>NaN</td>\n",
       "    </tr>\n",
       "    <tr>\n",
       "      <th>63217</th>\n",
       "      <td>2015</td>\n",
       "      <td>ELLINIKI DIMOKRATIA* REPUBLIQUE HELL...</td>\n",
       "      <td>1</td>\n",
       "      <td>NaN</td>\n",
       "      <td>..</td>\n",
       "      <td>.</td>\n",
       "      <td>NaN</td>\n",
       "      <td>Greece</td>\n",
       "      <td>121,362,471.11</td>\n",
       "      <td>NaN</td>\n",
       "      <td>Operational</td>\n",
       "      <td>SI2.716922.1</td>\n",
       "      <td>2014-EL-TMC-0268-W INEA/CEF/TRAN/M20...</td>\n",
       "      <td>Innovation and Networks Executive Ag...</td>\n",
       "      <td>Connecting Europe Facility (CEF) — C...</td>\n",
       "      <td>Cohesion Fund (CF)</td>\n",
       "      <td>Grants</td>\n",
       "      <td>NaN</td>\n",
       "    </tr>\n",
       "  </tbody>\n",
       "</table>\n",
       "</div>"
      ],
      "text/plain": [
       "       Year                      Name of beneficiary  \\\n",
       "889    2013  'REPUBLIQUE FRANCAISE*FRENCH REPUBLI...   \n",
       "61770  2013      REPUBLIQUE DU MALI*REPUBLIC OF MALI   \n",
       "63212  2015  REINO DE ESPANA*ROYAUME D ESPAGNEKIN...   \n",
       "33843  2014                          UKRAINA*UKRAINE   \n",
       "63213  2015  ELLINIKI DIMOKRATIA* REPUBLIQUE HELL...   \n",
       "63214  2015  COMPANIA NATIONALA DE CAI FERATE CFR...   \n",
       "890    2013  'BASTION EUROPEAN INVESTMENTS SA*';'...   \n",
       "63215  2015  'ORPAVIMOB SA*';'NIB CAPITAL BANK NV...   \n",
       "63216  2015  REPUBBLICA ITALIANA* REPUBLIQUE ITAL...   \n",
       "63217  2015  ELLINIKI DIMOKRATIA* REPUBLIQUE HELL...   \n",
       "\n",
       "                           Coordinator  \\\n",
       "889                                1;0   \n",
       "61770                                0   \n",
       "63212                                1   \n",
       "33843                                0   \n",
       "63213                                1   \n",
       "63214                                1   \n",
       "890    0;0;0;0;0;0;0;0;0;0;0;0;0;0;0;0   \n",
       "63215    0;0;0;0;0;0;0;0;0;0;0;0;0;0;0   \n",
       "63216                                1   \n",
       "63217                                1   \n",
       "\n",
       "                     VAT Number of beneficiary  \\\n",
       "889                                          ;   \n",
       "61770                                      NaN   \n",
       "63212                                      NaN   \n",
       "33843                                      NaN   \n",
       "63213                                      NaN   \n",
       "63214                               RO11054529   \n",
       "890    BE0877881474;;;;FR27552120222;BE0462...   \n",
       "63215  ;;BE0402236531;BE0424225045;DE118513...   \n",
       "63216                                      NaN   \n",
       "63217                                      NaN   \n",
       "\n",
       "                                       Address  \\\n",
       "889                                        -;-   \n",
       "61770                                        -   \n",
       "63212                                        -   \n",
       "33843                                        -   \n",
       "63213                                       ..   \n",
       "63214          BLVD DINICU GOLESCU 38 SECTOR 1   \n",
       "890    PLACE DU CHAMP DE MARS 5;OUDE LINDES...   \n",
       "63215  COURS VALMY 17;CARNEGIEPLEIN 4;RUE R...   \n",
       "63216                                        -   \n",
       "63217                                       ..   \n",
       "\n",
       "                                          City  \\\n",
       "889                                        -;-   \n",
       "61770                                        -   \n",
       "63212                                        -   \n",
       "33843                                        -   \n",
       "63213                                        .   \n",
       "63214                                BUCURESTI   \n",
       "890    BRUXELLES;HEERLEN;JERSEY CHANNEL ISL...   \n",
       "63215  PUTEAUX;DEN HAAG;BRUXELLES;BRUXELLES...   \n",
       "63216                                        -   \n",
       "63217                                        .   \n",
       "\n",
       "                                   Postal code  \\\n",
       "889                                          ;   \n",
       "61770                                      NaN   \n",
       "63212                                      NaN   \n",
       "33843                                      NaN   \n",
       "63213                                      NaN   \n",
       "63214                                   010873   \n",
       "890    1050;6411 EJ;JE4 8ZB;2517 KJ;75009;1...   \n",
       "63215  92800;2517 KJ;1210;1000;65760;;1170;...   \n",
       "63216                                      NaN   \n",
       "63217                                      NaN   \n",
       "\n",
       "                           Country / Territory         Amount  \\\n",
       "889                               France;Italy 272,856,706.00   \n",
       "61770                                     Mali 220,000,000.00   \n",
       "63212                                    Spain 193,348,786.40   \n",
       "33843                                  Ukraine 192,000,000.00   \n",
       "63213                                   Greece 184,769,792.47   \n",
       "63214                                  Romania 163,720,222.95   \n",
       "890    Belgium;Netherlands;United Kingdom;N... 151,226,555.27   \n",
       "63215  France;Netherlands;Belgium;Belgium;G... 144,702,451.00   \n",
       "63216                                    Italy 127,160,000.00   \n",
       "63217                                   Greece 121,362,471.11   \n",
       "\n",
       "      Geographical Zone    Expense Type Commitment position key  \\\n",
       "889                 NaN     Operational            SI2.516191.8   \n",
       "61770              Mali     Operational     AID.CTR.320473.01.1   \n",
       "63212               NaN     Operational            SI2.717937.1   \n",
       "33843           Ukraine     Operational     SCR.CTR.344231.02.1   \n",
       "63213               NaN     Operational            SI2.717190.1   \n",
       "63214               NaN     Operational            SI2.715960.1   \n",
       "890                 NaN  Administrative            SI2.642256.1   \n",
       "63215               NaN  Administrative            SI2.697267.1   \n",
       "63216               NaN     Operational            SI2.717221.1   \n",
       "63217               NaN     Operational            SI2.716922.1   \n",
       "\n",
       "                  Subject of grant or contract  \\\n",
       "889    2007-EU-06010-P : Nouvelle liaison f...   \n",
       "61770  Partie aide budgétaire globale du co...   \n",
       "63212  2014-EU-TM-0600-M INEA/CEF/TRAN/M201...   \n",
       "33843  State Building Contract for Ukraine ...   \n",
       "63213  2014-EL-TMC-0651-W INEA/CEF/TRAN/M20...   \n",
       "63214  THE REHABILITATION OF THE BRASOV  S...   \n",
       "890    Redevances acquisitives de biens imm...   \n",
       "63215  REDEVANCES ACQUISITIVES DE BIENS IMM...   \n",
       "63216  2014-EU-TM-0190-W - INEA/CEF/TRAN/M2...   \n",
       "63217  2014-EL-TMC-0268-W INEA/CEF/TRAN/M20...   \n",
       "\n",
       "                        Responsible Department  \\\n",
       "889    Trans-European Transport Network Exe...   \n",
       "61770  Directorate-General for Development ...   \n",
       "63212  Innovation and Networks Executive Ag...   \n",
       "33843  Directorate-General for Development ...   \n",
       "63213  Innovation and Networks Executive Ag...   \n",
       "63214  Innovation and Networks Executive Ag...   \n",
       "890    Office for Infrastructure and Logist...   \n",
       "63215  Office for Infrastructure and Logist...   \n",
       "63216  Removing bottlenecks and bridging mi...   \n",
       "63217  Innovation and Networks Executive Ag...   \n",
       "\n",
       "                   Budget line name and number  \\\n",
       "889    Financial support for projects of co...   \n",
       "61770  A Envelope - programmable aid (02.10...   \n",
       "63212  Removing bottlenecks and bridging mi...   \n",
       "33843  Eastern Partnership — Human rights a...   \n",
       "63213  Connecting Europe Facility (CEF) — C...   \n",
       "63214  Connecting Europe Facility (CEF) — C...   \n",
       "890    Acquisition and renting of buildings...   \n",
       "63215  Acquisition and renting of buildings...   \n",
       "63216         Connecting Europe Facility (CEF)   \n",
       "63217  Connecting Europe Facility (CEF) — C...   \n",
       "\n",
       "                                   Action Type  \\\n",
       "889    TEN-T: Trans-European Transport netw...   \n",
       "61770                                      NaN   \n",
       "63212         Connecting Europe Facility (CEF)   \n",
       "33843  European Neighbourhood Instrument (ENI)   \n",
       "63213                       Cohesion Fund (CF)   \n",
       "63214                       Cohesion Fund (CF)   \n",
       "890             26 Commission's administration   \n",
       "63215           26 Commission’s administration   \n",
       "63216                                   Grants   \n",
       "63217                       Cohesion Fund (CF)   \n",
       "\n",
       "                                  Funding Type NUTS2  \n",
       "889                                     Grants   NaN  \n",
       "61770                           Budget support   NaN  \n",
       "63212                                   Grants   NaN  \n",
       "33843                           Budget support   NaN  \n",
       "63213                                   Grants   NaN  \n",
       "63214                                   Grants   NaN  \n",
       "890    Provisional commitment followed by p...   NaN  \n",
       "63215  Provisional commitment followed by p...   NaN  \n",
       "63216                                      NaN   NaN  \n",
       "63217                                   Grants   NaN  "
      ]
     },
     "execution_count": 19,
     "metadata": {},
     "output_type": "execute_result"
    }
   ],
   "source": [
    "dataset.nlargest(10, \"Amount\")"
   ]
  },
  {
   "cell_type": "markdown",
   "metadata": {},
   "source": [
    "### Check which years there are in the dataset"
   ]
  },
  {
   "cell_type": "code",
   "execution_count": 24,
   "metadata": {
    "collapsed": false
   },
   "outputs": [
    {
     "data": {
      "text/plain": [
       "array([2014, 2013, 2015])"
      ]
     },
     "execution_count": 24,
     "metadata": {},
     "output_type": "execute_result"
    }
   ],
   "source": [
    "dataset.Year.unique()"
   ]
  },
  {
   "cell_type": "markdown",
   "metadata": {},
   "source": [
    "### Check which funding types there are in the dataset and how many"
   ]
  },
  {
   "cell_type": "code",
   "execution_count": 27,
   "metadata": {
    "collapsed": false
   },
   "outputs": [
    {
     "data": {
      "text/plain": [
       "Public procurement (including provisional commitments)                              42350\n",
       "Grants                                                                              42283\n",
       "Provisional commitment followed by payment                                           5403\n",
       "MEDIA 2007 — Support programme for the European audiovisual sector (15.04.66.01)     2052\n",
       "External experts                                                                      294\n",
       "Budget support                                                                        190\n",
       "Prizes                                                                                 66\n",
       "Name: Funding Type, dtype: int64"
      ]
     },
     "execution_count": 27,
     "metadata": {},
     "output_type": "execute_result"
    }
   ],
   "source": [
    "dataset[\"Funding Type\"].value_counts().head(7)"
   ]
  },
  {
   "cell_type": "markdown",
   "metadata": {},
   "source": [
    "### What were the expenses for each year?"
   ]
  },
  {
   "cell_type": "code",
   "execution_count": 36,
   "metadata": {
    "collapsed": false
   },
   "outputs": [
    {
     "data": {
      "text/html": [
       "<div>\n",
       "<table border=\"1\" class=\"dataframe\">\n",
       "  <thead>\n",
       "    <tr style=\"text-align: right;\">\n",
       "      <th></th>\n",
       "      <th>Amount</th>\n",
       "    </tr>\n",
       "    <tr>\n",
       "      <th>Year</th>\n",
       "      <th></th>\n",
       "    </tr>\n",
       "  </thead>\n",
       "  <tbody>\n",
       "    <tr>\n",
       "      <th>2013</th>\n",
       "      <td>19,340,736,276.58</td>\n",
       "    </tr>\n",
       "    <tr>\n",
       "      <th>2014</th>\n",
       "      <td>14,705,082,488.71</td>\n",
       "    </tr>\n",
       "    <tr>\n",
       "      <th>2015</th>\n",
       "      <td>21,237,501,016.14</td>\n",
       "    </tr>\n",
       "  </tbody>\n",
       "</table>\n",
       "</div>"
      ],
      "text/plain": [
       "                Amount\n",
       "Year                  \n",
       "2013 19,340,736,276.58\n",
       "2014 14,705,082,488.71\n",
       "2015 21,237,501,016.14"
      ]
     },
     "execution_count": 36,
     "metadata": {},
     "output_type": "execute_result"
    }
   ],
   "source": [
    "dataset.groupby('Year').sum()"
   ]
  },
  {
   "cell_type": "markdown",
   "metadata": {},
   "source": [
    "### What were the expenses per funding type per year?"
   ]
  },
  {
   "cell_type": "code",
   "execution_count": 58,
   "metadata": {
    "collapsed": false
   },
   "outputs": [
    {
     "data": {
      "text/plain": [
       "Year  Funding Type                                          \n",
       "2015  Grants                                                   16,219,151,745.41\n",
       "2013  Grants                                                   14,332,542,157.15\n",
       "2014  Grants                                                    9,606,208,465.92\n",
       "2015  Public procurement (including provisional commitments)    2,248,682,051.45\n",
       "2014  Public procurement (including provisional commitments)    2,215,790,410.83\n",
       "Name: Amount, dtype: float64"
      ]
     },
     "execution_count": 58,
     "metadata": {},
     "output_type": "execute_result"
    }
   ],
   "source": [
    "table = dataset.groupby([\"Year\",\"Funding Type\"]).sum()[\"Amount\"].nlargest()\n",
    "table"
   ]
  },
  {
   "cell_type": "code",
   "execution_count": 57,
   "metadata": {
    "collapsed": true
   },
   "outputs": [],
   "source": [
    "pd.DataFrame(table).to_excel(\"table.xls\")"
   ]
  },
  {
   "cell_type": "markdown",
   "metadata": {},
   "source": [
    "### What were the expenses per funding type?"
   ]
  },
  {
   "cell_type": "code",
   "execution_count": 42,
   "metadata": {
    "collapsed": false
   },
   "outputs": [
    {
     "data": {
      "text/plain": [
       "Funding Type\n",
       "Grants                                                   40,157,902,368.48\n",
       "Public procurement (including provisional commitments)    6,601,988,440.88\n",
       "Budget support                                            4,445,653,102.35\n",
       "Provisional commitment followed by payment                2,883,244,727.74\n",
       "Financial Instruments                                       232,303,277.14\n",
       "Name: Amount, dtype: float64"
      ]
     },
     "execution_count": 42,
     "metadata": {},
     "output_type": "execute_result"
    }
   ],
   "source": [
    "biggest = dataset.groupby(\"Funding Type\").sum()[\"Amount\"].nlargest()\n",
    "biggest"
   ]
  },
  {
   "cell_type": "markdown",
   "metadata": {},
   "source": [
    "#### make a chart to see the differences better"
   ]
  },
  {
   "cell_type": "code",
   "execution_count": 41,
   "metadata": {
    "collapsed": false
   },
   "outputs": [
    {
     "data": {
      "text/plain": [
       "<matplotlib.axes._subplots.AxesSubplot at 0x7f0dea20d400>"
      ]
     },
     "execution_count": 41,
     "metadata": {},
     "output_type": "execute_result"
    },
    {
     "data": {
      "image/png": "[encoded data removed]",
      "text/plain": [
       "<matplotlib.figure.Figure at 0x7f0df80c0908>"
      ]
     },
     "metadata": {},
     "output_type": "display_data"
    }
   ],
   "source": [
    "biggest.plot(kind=\"bar\")"
   ]
  },
  {
   "cell_type": "markdown",
   "metadata": {},
   "source": [
    "### Which countries got the most money?"
   ]
  },
  {
   "cell_type": "code",
   "execution_count": 78,
   "metadata": {
    "collapsed": false
   },
   "outputs": [
    {
     "data": {
      "text/plain": [
       "Country / Territory\n",
       "Belgium          4,170,493,576.47\n",
       "United Kingdom   3,412,205,344.75\n",
       "France           3,136,391,701.70\n",
       "Germany          3,125,872,873.18\n",
       "Italy            2,156,570,771.63\n",
       "Spain            2,140,201,798.32\n",
       "Netherlands      1,369,409,063.09\n",
       "Luxembourg         843,908,176.14\n",
       "Denmark            818,494,097.68\n",
       "Switzerland        705,225,489.33\n",
       "Name: Amount, dtype: float64"
      ]
     },
     "execution_count": 78,
     "metadata": {},
     "output_type": "execute_result"
    }
   ],
   "source": [
    "dataset.groupby(\"Country / Territory\").sum()[\"Amount\"].nlargest(10)"
   ]
  },
  {
   "cell_type": "markdown",
   "metadata": {},
   "source": [
    "#### make a chart to see the differences better"
   ]
  },
  {
   "cell_type": "code",
   "execution_count": 79,
   "metadata": {
    "collapsed": false
   },
   "outputs": [
    {
     "data": {
      "text/plain": [
       "<matplotlib.axes._subplots.AxesSubplot at 0x7f0ddea8f208>"
      ]
     },
     "execution_count": 79,
     "metadata": {},
     "output_type": "execute_result"
    },
    {
     "data": {
      "image/png": "[encoded data removed]",
      "text/plain": [
       "<matplotlib.figure.Figure at 0x7f0ddea984e0>"
      ]
     },
     "metadata": {},
     "output_type": "display_data"
    }
   ],
   "source": [
    "dataset.groupby(\"Country / Territory\").sum()[\"Amount\"].nlargest(10).plot(kind=\"bar\")"
   ]
  },
  {
   "cell_type": "markdown",
   "metadata": {},
   "source": [
    "### Make a \"grants\" and \"procurement\" dataset aan"
   ]
  },
  {
   "cell_type": "code",
   "execution_count": 65,
   "metadata": {
    "collapsed": false
   },
   "outputs": [],
   "source": [
    "grants = dataset[dataset[\"Funding Type\"] == \"Grants\"]\n",
    "procurement = dataset[dataset[\"Funding Type\"] == \"Public procurement (including provisional commitments)\"]"
   ]
  },
  {
   "cell_type": "markdown",
   "metadata": {},
   "source": [
    "### Filter out grants that cost more than 100.000.000"
   ]
  },
  {
   "cell_type": "code",
   "execution_count": 83,
   "metadata": {
    "collapsed": false
   },
   "outputs": [
    {
     "data": {
      "text/html": [
       "<div>\n",
       "<table border=\"1\" class=\"dataframe\">\n",
       "  <thead>\n",
       "    <tr style=\"text-align: right;\">\n",
       "      <th></th>\n",
       "      <th>Year</th>\n",
       "      <th>Name of beneficiary</th>\n",
       "      <th>Coordinator</th>\n",
       "      <th>VAT Number of beneficiary</th>\n",
       "      <th>Address</th>\n",
       "      <th>City</th>\n",
       "      <th>Postal code</th>\n",
       "      <th>Country / Territory</th>\n",
       "      <th>Amount</th>\n",
       "      <th>Geographical Zone</th>\n",
       "      <th>Expense Type</th>\n",
       "      <th>Commitment position key</th>\n",
       "      <th>Subject of grant or contract</th>\n",
       "      <th>Responsible Department</th>\n",
       "      <th>Budget line name and number</th>\n",
       "      <th>Action Type</th>\n",
       "      <th>Funding Type</th>\n",
       "      <th>NUTS2</th>\n",
       "    </tr>\n",
       "  </thead>\n",
       "  <tbody>\n",
       "    <tr>\n",
       "      <th>889</th>\n",
       "      <td>2013</td>\n",
       "      <td>'REPUBLIQUE FRANCAISE*FRENCH REPUBLI...</td>\n",
       "      <td>1;0</td>\n",
       "      <td>;</td>\n",
       "      <td>-;-</td>\n",
       "      <td>-;-</td>\n",
       "      <td>;</td>\n",
       "      <td>France;Italy</td>\n",
       "      <td>272,856,706.00</td>\n",
       "      <td>NaN</td>\n",
       "      <td>Operational</td>\n",
       "      <td>SI2.516191.8</td>\n",
       "      <td>2007-EU-06010-P : Nouvelle liaison f...</td>\n",
       "      <td>Trans-European Transport Network Exe...</td>\n",
       "      <td>Financial support for projects of co...</td>\n",
       "      <td>TEN-T: Trans-European Transport netw...</td>\n",
       "      <td>Grants</td>\n",
       "      <td>NaN</td>\n",
       "    </tr>\n",
       "    <tr>\n",
       "      <th>891</th>\n",
       "      <td>2013</td>\n",
       "      <td>'REPUBLIQUE FRANCAISE*FRENCH REPUBLI...</td>\n",
       "      <td>1;0</td>\n",
       "      <td>;</td>\n",
       "      <td>-;-</td>\n",
       "      <td>-;-</td>\n",
       "      <td>;</td>\n",
       "      <td>France;Belgium</td>\n",
       "      <td>111,602,539.03</td>\n",
       "      <td>NaN</td>\n",
       "      <td>Operational</td>\n",
       "      <td>SI2.515096.12</td>\n",
       "      <td>2007-EU-30010-P : Liaison fluviale S...</td>\n",
       "      <td>Trans-European Transport Network Exe...</td>\n",
       "      <td>Financial support for projects of co...</td>\n",
       "      <td>TEN-T: Trans-European Transport netw...</td>\n",
       "      <td>Grants</td>\n",
       "      <td>NaN</td>\n",
       "    </tr>\n",
       "    <tr>\n",
       "      <th>892</th>\n",
       "      <td>2013</td>\n",
       "      <td>REPUBLIQUE FRANCAISE*FRENCH REPUBLIC</td>\n",
       "      <td>1</td>\n",
       "      <td>NaN</td>\n",
       "      <td>-</td>\n",
       "      <td>-</td>\n",
       "      <td>NaN</td>\n",
       "      <td>France</td>\n",
       "      <td>104,479,910.00</td>\n",
       "      <td>NaN</td>\n",
       "      <td>Operational</td>\n",
       "      <td>SI2.515449.5</td>\n",
       "      <td>2007-FR-03010-S - COMMISSION DECISIO...</td>\n",
       "      <td>Trans-European Transport Network Exe...</td>\n",
       "      <td>Financial support for projects of co...</td>\n",
       "      <td>TEN-T: Trans-European Transport netw...</td>\n",
       "      <td>Grants</td>\n",
       "      <td>NaN</td>\n",
       "    </tr>\n",
       "    <tr>\n",
       "      <th>63212</th>\n",
       "      <td>2015</td>\n",
       "      <td>REINO DE ESPANA*ROYAUME D ESPAGNEKIN...</td>\n",
       "      <td>1</td>\n",
       "      <td>NaN</td>\n",
       "      <td>-</td>\n",
       "      <td>-</td>\n",
       "      <td>NaN</td>\n",
       "      <td>Spain</td>\n",
       "      <td>193,348,786.40</td>\n",
       "      <td>NaN</td>\n",
       "      <td>Operational</td>\n",
       "      <td>SI2.717937.1</td>\n",
       "      <td>2014-EU-TM-0600-M INEA/CEF/TRAN/M201...</td>\n",
       "      <td>Innovation and Networks Executive Ag...</td>\n",
       "      <td>Removing bottlenecks and bridging mi...</td>\n",
       "      <td>Connecting Europe Facility (CEF)</td>\n",
       "      <td>Grants</td>\n",
       "      <td>NaN</td>\n",
       "    </tr>\n",
       "    <tr>\n",
       "      <th>63213</th>\n",
       "      <td>2015</td>\n",
       "      <td>ELLINIKI DIMOKRATIA* REPUBLIQUE HELL...</td>\n",
       "      <td>1</td>\n",
       "      <td>NaN</td>\n",
       "      <td>..</td>\n",
       "      <td>.</td>\n",
       "      <td>NaN</td>\n",
       "      <td>Greece</td>\n",
       "      <td>184,769,792.47</td>\n",
       "      <td>NaN</td>\n",
       "      <td>Operational</td>\n",
       "      <td>SI2.717190.1</td>\n",
       "      <td>2014-EL-TMC-0651-W INEA/CEF/TRAN/M20...</td>\n",
       "      <td>Innovation and Networks Executive Ag...</td>\n",
       "      <td>Connecting Europe Facility (CEF) — C...</td>\n",
       "      <td>Cohesion Fund (CF)</td>\n",
       "      <td>Grants</td>\n",
       "      <td>NaN</td>\n",
       "    </tr>\n",
       "    <tr>\n",
       "      <th>63214</th>\n",
       "      <td>2015</td>\n",
       "      <td>COMPANIA NATIONALA DE CAI FERATE CFR...</td>\n",
       "      <td>1</td>\n",
       "      <td>RO11054529</td>\n",
       "      <td>BLVD DINICU GOLESCU 38 SECTOR 1</td>\n",
       "      <td>BUCURESTI</td>\n",
       "      <td>010873</td>\n",
       "      <td>Romania</td>\n",
       "      <td>163,720,222.95</td>\n",
       "      <td>NaN</td>\n",
       "      <td>Operational</td>\n",
       "      <td>SI2.715960.1</td>\n",
       "      <td>THE REHABILITATION OF THE BRASOV  S...</td>\n",
       "      <td>Innovation and Networks Executive Ag...</td>\n",
       "      <td>Connecting Europe Facility (CEF) — C...</td>\n",
       "      <td>Cohesion Fund (CF)</td>\n",
       "      <td>Grants</td>\n",
       "      <td>NaN</td>\n",
       "    </tr>\n",
       "    <tr>\n",
       "      <th>63217</th>\n",
       "      <td>2015</td>\n",
       "      <td>ELLINIKI DIMOKRATIA* REPUBLIQUE HELL...</td>\n",
       "      <td>1</td>\n",
       "      <td>NaN</td>\n",
       "      <td>..</td>\n",
       "      <td>.</td>\n",
       "      <td>NaN</td>\n",
       "      <td>Greece</td>\n",
       "      <td>121,362,471.11</td>\n",
       "      <td>NaN</td>\n",
       "      <td>Operational</td>\n",
       "      <td>SI2.716922.1</td>\n",
       "      <td>2014-EL-TMC-0268-W INEA/CEF/TRAN/M20...</td>\n",
       "      <td>Innovation and Networks Executive Ag...</td>\n",
       "      <td>Connecting Europe Facility (CEF) — C...</td>\n",
       "      <td>Cohesion Fund (CF)</td>\n",
       "      <td>Grants</td>\n",
       "      <td>NaN</td>\n",
       "    </tr>\n",
       "    <tr>\n",
       "      <th>63218</th>\n",
       "      <td>2015</td>\n",
       "      <td>BUNDESREPUBLIK DEUTSCHLAND*REPUBLIQU...</td>\n",
       "      <td>1</td>\n",
       "      <td>NaN</td>\n",
       "      <td>-</td>\n",
       "      <td>-</td>\n",
       "      <td>NaN</td>\n",
       "      <td>Germany</td>\n",
       "      <td>103,356,642.10</td>\n",
       "      <td>NaN</td>\n",
       "      <td>Operational</td>\n",
       "      <td>SI2.717609.1</td>\n",
       "      <td>2014-DE-TM-0166-W - INEA/CEF/TRAN/M2...</td>\n",
       "      <td>Innovation and Networks Executive Ag...</td>\n",
       "      <td>Removing bottlenecks and bridging mi...</td>\n",
       "      <td>Connecting Europe Facility (CEF)</td>\n",
       "      <td>Grants</td>\n",
       "      <td>NaN</td>\n",
       "    </tr>\n",
       "    <tr>\n",
       "      <th>63219</th>\n",
       "      <td>2015</td>\n",
       "      <td>UNITED NATIONS RELIEF AND WORKS AGEN...</td>\n",
       "      <td>1</td>\n",
       "      <td>NaN</td>\n",
       "      <td>.</td>\n",
       "      <td>.</td>\n",
       "      <td>.</td>\n",
       "      <td>Jordan</td>\n",
       "      <td>100,232,434.82</td>\n",
       "      <td>West Bank and Gaza Strip</td>\n",
       "      <td>Operational</td>\n",
       "      <td>SCR.CTR.352899.01.1</td>\n",
       "      <td>CONTRIBUTION TO UNRWA'S 2015 REGULAR...</td>\n",
       "      <td>Directorate-General for Neighbourhoo...</td>\n",
       "      <td>Support to peace process and financi...</td>\n",
       "      <td>European Neighbourhood Instrument (ENI)</td>\n",
       "      <td>Grants</td>\n",
       "      <td>NaN</td>\n",
       "    </tr>\n",
       "  </tbody>\n",
       "</table>\n",
       "</div>"
      ],
      "text/plain": [
       "       Year                      Name of beneficiary Coordinator  \\\n",
       "889    2013  'REPUBLIQUE FRANCAISE*FRENCH REPUBLI...         1;0   \n",
       "891    2013  'REPUBLIQUE FRANCAISE*FRENCH REPUBLI...         1;0   \n",
       "892    2013     REPUBLIQUE FRANCAISE*FRENCH REPUBLIC           1   \n",
       "63212  2015  REINO DE ESPANA*ROYAUME D ESPAGNEKIN...           1   \n",
       "63213  2015  ELLINIKI DIMOKRATIA* REPUBLIQUE HELL...           1   \n",
       "63214  2015  COMPANIA NATIONALA DE CAI FERATE CFR...           1   \n",
       "63217  2015  ELLINIKI DIMOKRATIA* REPUBLIQUE HELL...           1   \n",
       "63218  2015  BUNDESREPUBLIK DEUTSCHLAND*REPUBLIQU...           1   \n",
       "63219  2015  UNITED NATIONS RELIEF AND WORKS AGEN...           1   \n",
       "\n",
       "      VAT Number of beneficiary                          Address       City  \\\n",
       "889                           ;                              -;-        -;-   \n",
       "891                           ;                              -;-        -;-   \n",
       "892                         NaN                                -          -   \n",
       "63212                       NaN                                -          -   \n",
       "63213                       NaN                               ..          .   \n",
       "63214                RO11054529  BLVD DINICU GOLESCU 38 SECTOR 1  BUCURESTI   \n",
       "63217                       NaN                               ..          .   \n",
       "63218                       NaN                                -          -   \n",
       "63219                       NaN                                .          .   \n",
       "\n",
       "      Postal code Country / Territory         Amount  \\\n",
       "889             ;        France;Italy 272,856,706.00   \n",
       "891             ;      France;Belgium 111,602,539.03   \n",
       "892           NaN              France 104,479,910.00   \n",
       "63212         NaN               Spain 193,348,786.40   \n",
       "63213         NaN              Greece 184,769,792.47   \n",
       "63214      010873             Romania 163,720,222.95   \n",
       "63217         NaN              Greece 121,362,471.11   \n",
       "63218         NaN             Germany 103,356,642.10   \n",
       "63219           .              Jordan 100,232,434.82   \n",
       "\n",
       "              Geographical Zone Expense Type Commitment position key  \\\n",
       "889                         NaN  Operational            SI2.516191.8   \n",
       "891                         NaN  Operational           SI2.515096.12   \n",
       "892                         NaN  Operational            SI2.515449.5   \n",
       "63212                       NaN  Operational            SI2.717937.1   \n",
       "63213                       NaN  Operational            SI2.717190.1   \n",
       "63214                       NaN  Operational            SI2.715960.1   \n",
       "63217                       NaN  Operational            SI2.716922.1   \n",
       "63218                       NaN  Operational            SI2.717609.1   \n",
       "63219  West Bank and Gaza Strip  Operational     SCR.CTR.352899.01.1   \n",
       "\n",
       "                  Subject of grant or contract  \\\n",
       "889    2007-EU-06010-P : Nouvelle liaison f...   \n",
       "891    2007-EU-30010-P : Liaison fluviale S...   \n",
       "892    2007-FR-03010-S - COMMISSION DECISIO...   \n",
       "63212  2014-EU-TM-0600-M INEA/CEF/TRAN/M201...   \n",
       "63213  2014-EL-TMC-0651-W INEA/CEF/TRAN/M20...   \n",
       "63214  THE REHABILITATION OF THE BRASOV  S...   \n",
       "63217  2014-EL-TMC-0268-W INEA/CEF/TRAN/M20...   \n",
       "63218  2014-DE-TM-0166-W - INEA/CEF/TRAN/M2...   \n",
       "63219  CONTRIBUTION TO UNRWA'S 2015 REGULAR...   \n",
       "\n",
       "                        Responsible Department  \\\n",
       "889    Trans-European Transport Network Exe...   \n",
       "891    Trans-European Transport Network Exe...   \n",
       "892    Trans-European Transport Network Exe...   \n",
       "63212  Innovation and Networks Executive Ag...   \n",
       "63213  Innovation and Networks Executive Ag...   \n",
       "63214  Innovation and Networks Executive Ag...   \n",
       "63217  Innovation and Networks Executive Ag...   \n",
       "63218  Innovation and Networks Executive Ag...   \n",
       "63219  Directorate-General for Neighbourhoo...   \n",
       "\n",
       "                   Budget line name and number  \\\n",
       "889    Financial support for projects of co...   \n",
       "891    Financial support for projects of co...   \n",
       "892    Financial support for projects of co...   \n",
       "63212  Removing bottlenecks and bridging mi...   \n",
       "63213  Connecting Europe Facility (CEF) — C...   \n",
       "63214  Connecting Europe Facility (CEF) — C...   \n",
       "63217  Connecting Europe Facility (CEF) — C...   \n",
       "63218  Removing bottlenecks and bridging mi...   \n",
       "63219  Support to peace process and financi...   \n",
       "\n",
       "                                   Action Type Funding Type NUTS2  \n",
       "889    TEN-T: Trans-European Transport netw...       Grants   NaN  \n",
       "891    TEN-T: Trans-European Transport netw...       Grants   NaN  \n",
       "892    TEN-T: Trans-European Transport netw...       Grants   NaN  \n",
       "63212         Connecting Europe Facility (CEF)       Grants   NaN  \n",
       "63213                       Cohesion Fund (CF)       Grants   NaN  \n",
       "63214                       Cohesion Fund (CF)       Grants   NaN  \n",
       "63217                       Cohesion Fund (CF)       Grants   NaN  \n",
       "63218         Connecting Europe Facility (CEF)       Grants   NaN  \n",
       "63219  European Neighbourhood Instrument (ENI)       Grants   NaN  "
      ]
     },
     "execution_count": 83,
     "metadata": {},
     "output_type": "execute_result"
    }
   ],
   "source": [
    "grants[grants[\"Amount\"] > 100000000]"
   ]
  },
  {
   "cell_type": "markdown",
   "metadata": {},
   "source": [
    "### Which countries got the most projects?"
   ]
  },
  {
   "cell_type": "code",
   "execution_count": 96,
   "metadata": {
    "collapsed": false
   },
   "outputs": [
    {
     "data": {
      "text/plain": [
       "Belgium           21607\n",
       "United Kingdom     6614\n",
       "France             6532\n",
       "Germany            5309\n",
       "Luxembourg         5279\n",
       "Name: Country / Territory, dtype: int64"
      ]
     },
     "execution_count": 96,
     "metadata": {},
     "output_type": "execute_result"
    }
   ],
   "source": [
    "dataset[\"Country / Territory\"].value_counts().nlargest()"
   ]
  },
  {
   "cell_type": "markdown",
   "metadata": {},
   "source": [
    "### Which department allocates most money?"
   ]
  },
  {
   "cell_type": "code",
   "execution_count": null,
   "metadata": {
    "collapsed": false
   },
   "outputs": [],
   "source": []
  },
  {
   "cell_type": "markdown",
   "metadata": {},
   "source": [
    "### Which department allocates most projects?"
   ]
  },
  {
   "cell_type": "code",
   "execution_count": null,
   "metadata": {
    "collapsed": false
   },
   "outputs": [],
   "source": []
  },
  {
   "cell_type": "markdown",
   "metadata": {
    "collapsed": false
   },
   "source": [
    "### What types of expenses are there?"
   ]
  },
  {
   "cell_type": "code",
   "execution_count": null,
   "metadata": {
    "collapsed": false
   },
   "outputs": [],
   "source": []
  },
  {
   "cell_type": "markdown",
   "metadata": {},
   "source": [
    "### How much money is spent on each of these types in total?"
   ]
  },
  {
   "cell_type": "code",
   "execution_count": null,
   "metadata": {
    "collapsed": false
   },
   "outputs": [],
   "source": []
  },
  {
   "cell_type": "markdown",
   "metadata": {},
   "source": [
    "#### Make a chart out of it to see the difference better"
   ]
  },
  {
   "cell_type": "code",
   "execution_count": null,
   "metadata": {
    "collapsed": false
   },
   "outputs": [],
   "source": []
  },
  {
   "cell_type": "markdown",
   "metadata": {},
   "source": [
    "### Which of these types is more expensive on average?"
   ]
  },
  {
   "cell_type": "code",
   "execution_count": null,
   "metadata": {
    "collapsed": false
   },
   "outputs": [],
   "source": []
  },
  {
   "cell_type": "markdown",
   "metadata": {},
   "source": [
    "### What were the most expensive projects in Denmark?"
   ]
  },
  {
   "cell_type": "code",
   "execution_count": null,
   "metadata": {
    "collapsed": false
   },
   "outputs": [],
   "source": []
  },
  {
   "cell_type": "markdown",
   "metadata": {},
   "source": [
    "### What were the most expensive projects in Microsoft got?"
   ]
  },
  {
   "cell_type": "code",
   "execution_count": 102,
   "metadata": {
    "collapsed": false
   },
   "outputs": [
    {
     "data": {
      "text/html": [
       "<div>\n",
       "<table border=\"1\" class=\"dataframe\">\n",
       "  <thead>\n",
       "    <tr style=\"text-align: right;\">\n",
       "      <th></th>\n",
       "      <th>Year</th>\n",
       "      <th>Name of beneficiary</th>\n",
       "      <th>Coordinator</th>\n",
       "      <th>VAT Number of beneficiary</th>\n",
       "      <th>Address</th>\n",
       "      <th>City</th>\n",
       "      <th>Postal code</th>\n",
       "      <th>Country / Territory</th>\n",
       "      <th>Amount</th>\n",
       "      <th>Geographical Zone</th>\n",
       "      <th>Expense Type</th>\n",
       "      <th>Commitment position key</th>\n",
       "      <th>Subject of grant or contract</th>\n",
       "      <th>Responsible Department</th>\n",
       "      <th>Budget line name and number</th>\n",
       "      <th>Action Type</th>\n",
       "      <th>Funding Type</th>\n",
       "      <th>NUTS2</th>\n",
       "    </tr>\n",
       "  </thead>\n",
       "  <tbody>\n",
       "    <tr>\n",
       "      <th>64253</th>\n",
       "      <td>2015</td>\n",
       "      <td>'ELLINIKO KENTRO KENOTOMIAS MICROSOF...</td>\n",
       "      <td>0;0;0;0;0;0;0;0;0;0;1</td>\n",
       "      <td>EL997873288;EL099785242;DE129515865;...</td>\n",
       "      <td>VASSILISSIS SOPHIAS  AVENUE 103 AND;...</td>\n",
       "      <td>ATHINA;THERMI THESSALONIKI;MUNCHEN;L...</td>\n",
       "      <td>11521;57001;80686;1649 004;15124;WC2...</td>\n",
       "      <td>Greece;Greece;Germany;Portugal;Greec...</td>\n",
       "      <td>3,921,302.50</td>\n",
       "      <td>NaN</td>\n",
       "      <td>Operational</td>\n",
       "      <td>JAG.41932.1</td>\n",
       "      <td>690494 - I-PROGNOSIS - INTELLIGENT P...</td>\n",
       "      <td>Directorate-General for Communicatio...</td>\n",
       "      <td>Improving lifelong health and well-b...</td>\n",
       "      <td>The Framework Programme for Research...</td>\n",
       "      <td>Grants</td>\n",
       "      <td>NaN</td>\n",
       "    </tr>\n",
       "    <tr>\n",
       "      <th>38203</th>\n",
       "      <td>2014</td>\n",
       "      <td>MICROSOFT NV*</td>\n",
       "      <td>1</td>\n",
       "      <td>BE0437910359</td>\n",
       "      <td>DAVINCILAAN 3 BAYREUTH BUILDING</td>\n",
       "      <td>ZAVENTEM</td>\n",
       "      <td>1935</td>\n",
       "      <td>Belgium</td>\n",
       "      <td>499,850.00</td>\n",
       "      <td>NaN</td>\n",
       "      <td>Administrative</td>\n",
       "      <td>SLG.CMM.2014.15696.1</td>\n",
       "      <td>ANALYST/CONSULTANT/ARCHITECT/EXPERT/...</td>\n",
       "      <td>Directorate-General for Informatics</td>\n",
       "      <td>Expenditure related to information a...</td>\n",
       "      <td>XX Administrative expenditure alloca...</td>\n",
       "      <td>Public procurement (including provis...</td>\n",
       "      <td>NaN</td>\n",
       "    </tr>\n",
       "    <tr>\n",
       "      <th>69291</th>\n",
       "      <td>2015</td>\n",
       "      <td>MICROSOFT NV*</td>\n",
       "      <td>1</td>\n",
       "      <td>BE0437910359</td>\n",
       "      <td>DAVINCILAAN 3 BAYREUTH BUILDING</td>\n",
       "      <td>ZAVENTEM</td>\n",
       "      <td>1935</td>\n",
       "      <td>Belgium</td>\n",
       "      <td>499,850.00</td>\n",
       "      <td>NaN</td>\n",
       "      <td>Administrative</td>\n",
       "      <td>SLG.CMM.2015.15801.1</td>\n",
       "      <td>ANALYST/CONSULTANT/ARCHITECT/EXPERT/...</td>\n",
       "      <td>Directorate-General for Informatics</td>\n",
       "      <td>Expenditure related to information a...</td>\n",
       "      <td>XX Administrative expenditure alloca...</td>\n",
       "      <td>Public procurement (including provis...</td>\n",
       "      <td>NaN</td>\n",
       "    </tr>\n",
       "    <tr>\n",
       "      <th>7175</th>\n",
       "      <td>2013</td>\n",
       "      <td>MICROSOFT NV*</td>\n",
       "      <td>0</td>\n",
       "      <td>BE0437910359</td>\n",
       "      <td>DAVINCILAAN 3 BAYREUTH BUILDING</td>\n",
       "      <td>ZAVENTEM</td>\n",
       "      <td>1935</td>\n",
       "      <td>Belgium</td>\n",
       "      <td>498,000.00</td>\n",
       "      <td>NaN</td>\n",
       "      <td>Administrative</td>\n",
       "      <td>SLG.CMM.2013.10091.1</td>\n",
       "      <td>Analyst/Consultant/Architect/Expert/...</td>\n",
       "      <td>Directorate-General for Informatics</td>\n",
       "      <td>Office for Infrastructure and Logist...</td>\n",
       "      <td>26 Commission's administration</td>\n",
       "      <td>Public procurement (including provis...</td>\n",
       "      <td>NaN</td>\n",
       "    </tr>\n",
       "    <tr>\n",
       "      <th>8289</th>\n",
       "      <td>2013</td>\n",
       "      <td>MICROSOFT NV*</td>\n",
       "      <td>1</td>\n",
       "      <td>BE0437910359</td>\n",
       "      <td>DAVINCILAAN 3 BAYREUTH BUILDING</td>\n",
       "      <td>ZAVENTEM</td>\n",
       "      <td>1935</td>\n",
       "      <td>Belgium</td>\n",
       "      <td>351,000.00</td>\n",
       "      <td>NaN</td>\n",
       "      <td>Administrative</td>\n",
       "      <td>SLG.CMM.2013.12853.1</td>\n",
       "      <td>ANALYST/CONSULTANT/ARCHITECT/EXPERT/...</td>\n",
       "      <td>Directorate-General for Informatics</td>\n",
       "      <td>Expenditure related to information a...</td>\n",
       "      <td>XX Administrative expenditure alloca...</td>\n",
       "      <td>Public procurement (including provis...</td>\n",
       "      <td>NaN</td>\n",
       "    </tr>\n",
       "  </tbody>\n",
       "</table>\n",
       "</div>"
      ],
      "text/plain": [
       "       Year                      Name of beneficiary            Coordinator  \\\n",
       "64253  2015  'ELLINIKO KENTRO KENOTOMIAS MICROSOF...  0;0;0;0;0;0;0;0;0;0;1   \n",
       "38203  2014                            MICROSOFT NV*                      1   \n",
       "69291  2015                            MICROSOFT NV*                      1   \n",
       "7175   2013                            MICROSOFT NV*                      0   \n",
       "8289   2013                            MICROSOFT NV*                      1   \n",
       "\n",
       "                     VAT Number of beneficiary  \\\n",
       "64253  EL997873288;EL099785242;DE129515865;...   \n",
       "38203                             BE0437910359   \n",
       "69291                             BE0437910359   \n",
       "7175                              BE0437910359   \n",
       "8289                              BE0437910359   \n",
       "\n",
       "                                       Address  \\\n",
       "64253  VASSILISSIS SOPHIAS  AVENUE 103 AND;...   \n",
       "38203          DAVINCILAAN 3 BAYREUTH BUILDING   \n",
       "69291          DAVINCILAAN 3 BAYREUTH BUILDING   \n",
       "7175           DAVINCILAAN 3 BAYREUTH BUILDING   \n",
       "8289           DAVINCILAAN 3 BAYREUTH BUILDING   \n",
       "\n",
       "                                          City  \\\n",
       "64253  ATHINA;THERMI THESSALONIKI;MUNCHEN;L...   \n",
       "38203                                 ZAVENTEM   \n",
       "69291                                 ZAVENTEM   \n",
       "7175                                  ZAVENTEM   \n",
       "8289                                  ZAVENTEM   \n",
       "\n",
       "                                   Postal code  \\\n",
       "64253  11521;57001;80686;1649 004;15124;WC2...   \n",
       "38203                                     1935   \n",
       "69291                                     1935   \n",
       "7175                                      1935   \n",
       "8289                                      1935   \n",
       "\n",
       "                           Country / Territory       Amount Geographical Zone  \\\n",
       "64253  Greece;Greece;Germany;Portugal;Greec... 3,921,302.50               NaN   \n",
       "38203                                  Belgium   499,850.00               NaN   \n",
       "69291                                  Belgium   499,850.00               NaN   \n",
       "7175                                   Belgium   498,000.00               NaN   \n",
       "8289                                   Belgium   351,000.00               NaN   \n",
       "\n",
       "         Expense Type Commitment position key  \\\n",
       "64253     Operational             JAG.41932.1   \n",
       "38203  Administrative    SLG.CMM.2014.15696.1   \n",
       "69291  Administrative    SLG.CMM.2015.15801.1   \n",
       "7175   Administrative    SLG.CMM.2013.10091.1   \n",
       "8289   Administrative    SLG.CMM.2013.12853.1   \n",
       "\n",
       "                  Subject of grant or contract  \\\n",
       "64253  690494 - I-PROGNOSIS - INTELLIGENT P...   \n",
       "38203  ANALYST/CONSULTANT/ARCHITECT/EXPERT/...   \n",
       "69291  ANALYST/CONSULTANT/ARCHITECT/EXPERT/...   \n",
       "7175   Analyst/Consultant/Architect/Expert/...   \n",
       "8289   ANALYST/CONSULTANT/ARCHITECT/EXPERT/...   \n",
       "\n",
       "                        Responsible Department  \\\n",
       "64253  Directorate-General for Communicatio...   \n",
       "38203      Directorate-General for Informatics   \n",
       "69291      Directorate-General for Informatics   \n",
       "7175       Directorate-General for Informatics   \n",
       "8289       Directorate-General for Informatics   \n",
       "\n",
       "                   Budget line name and number  \\\n",
       "64253  Improving lifelong health and well-b...   \n",
       "38203  Expenditure related to information a...   \n",
       "69291  Expenditure related to information a...   \n",
       "7175   Office for Infrastructure and Logist...   \n",
       "8289   Expenditure related to information a...   \n",
       "\n",
       "                                   Action Type  \\\n",
       "64253  The Framework Programme for Research...   \n",
       "38203  XX Administrative expenditure alloca...   \n",
       "69291  XX Administrative expenditure alloca...   \n",
       "7175            26 Commission's administration   \n",
       "8289   XX Administrative expenditure alloca...   \n",
       "\n",
       "                                  Funding Type NUTS2  \n",
       "64253                                   Grants   NaN  \n",
       "38203  Public procurement (including provis...   NaN  \n",
       "69291  Public procurement (including provis...   NaN  \n",
       "7175   Public procurement (including provis...   NaN  \n",
       "8289   Public procurement (including provis...   NaN  "
      ]
     },
     "execution_count": 102,
     "metadata": {},
     "output_type": "execute_result"
    }
   ],
   "source": [
    "dataset[dataset[\"Name of beneficiary\"].str.contains(\"MICROSOFT\")].nlargest(5, \"Amount\")"
   ]
  },
  {
   "cell_type": "markdown",
   "metadata": {},
   "source": [
    "### How much money did Microsoft get in the years 2013-2015 from the European Comission?"
   ]
  },
  {
   "cell_type": "code",
   "execution_count": 104,
   "metadata": {
    "collapsed": false
   },
   "outputs": [
    {
     "data": {
      "text/plain": [
       "Year\n",
       "2013   1,792,943.00\n",
       "2014   1,181,982.00\n",
       "2015   5,065,782.50\n",
       "Name: Amount, dtype: float64"
      ]
     },
     "execution_count": 104,
     "metadata": {},
     "output_type": "execute_result"
    }
   ],
   "source": [
    "dataset[dataset[\"Name of beneficiary\"].str.contains(\"MICROSOFT\")].groupby(\"Year\").sum()[\"Amount\"]"
   ]
  },
  {
   "cell_type": "code",
   "execution_count": null,
   "metadata": {
    "collapsed": true
   },
   "outputs": [],
   "source": []
  }
 ],
 "metadata": {
  "anaconda-cloud": {},
  "kernelspec": {
   "display_name": "Python [conda root]",
   "language": "python",
   "name": "conda-root-py"
  },
  "language_info": {
   "codemirror_mode": {
    "name": "ipython",
    "version": 3
   },
   "file_extension": ".py",
   "mimetype": "text/x-python",
   "name": "python",
   "nbconvert_exporter": "python",
   "pygments_lexer": "ipython3",
   "version": "3.5.2"
  }
 },
 "nbformat": 4,
 "nbformat_minor": 1
}
