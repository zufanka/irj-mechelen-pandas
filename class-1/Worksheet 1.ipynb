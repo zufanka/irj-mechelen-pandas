{
 "cells": [
  {
   "cell_type": "markdown",
   "metadata": {},
   "source": [
    "# Interviewing data sets"
   ]
  },
  {
   "cell_type": "markdown",
   "metadata": {},
   "source": [
    "In this lesson we will be covering:\n",
    "\n",
    "- how do I look at data?\n",
    "- how do I select relevant parts of the dataset to answer my questions?\n",
    "- how do I actually ask data questions?\n",
    "\n",
    "After you got answer to one question, you want to follow up or ask another one. In this sense it is the same as talking to a person.\n",
    "\n",
    "This is a *top - down* class. It will show you how you can apply programming skills as a journalist instead of teaching you the basics of programming."
   ]
  },
  {
   "cell_type": "markdown",
   "metadata": {},
   "source": [
    "Why Python and not Excel?\n",
    "\n",
    "- Python is more **flexible**. This means not only you can do analysis faster, even automatize many parts of it.\n",
    "\n",
    "- Sometimes you have to make sense of **large datasets** (milions of rows)\n",
    "\n",
    "- You want to be ready to **repeat** your process if the raw data changes. Maybe it's the dataset is published regularly, or maybe an error is found in your original source.\n",
    "\n",
    "- You want to be able to **identify every step** you took where you may have made an incorrect assumption, or where you'll need to defend your choices to your editor, or even a lawyer."
   ]
  },
  {
   "cell_type": "markdown",
   "metadata": {},
   "source": [
    "## Importing libraries and setting options"
   ]
  },
  {
   "cell_type": "code",
   "execution_count": 1,
   "metadata": {
    "collapsed": false
   },
   "outputs": [],
   "source": [
    "import pandas as pd\n",
    "import numpy as np\n",
    "pd.set_option(\"max_info_columns\", 150) #or \"max_columns\" will show you more columns if your dataset has many\n",
    "%matplotlib inline"
   ]
  },
  {
   "cell_type": "markdown",
   "metadata": {},
   "source": [
    "*Pandas* is a *Python* library. Using a specific library when programming makes you do less work as you don't need to write out everything what you want to do. The library functions do it for you."
   ]
  },
  {
   "cell_type": "markdown",
   "metadata": {},
   "source": [
    "## The dataset"
   ]
  },
  {
   "cell_type": "markdown",
   "metadata": {},
   "source": [
    "first a dataset needs to be imported. Our dataset here is the [Global Terorism Database](https://www.start.umd.edu/gtd/).\n",
    "> The Global Terrorism Database (GTD) an open-source database including information on terrorist events around the world from 1970 through 2015. The GTD includes systematic data on international terrorist incidents that have occurred during this time period and now includes more than 150,000 cases\n",
    "\n",
    "It is a quite big dataset containing more than 150,000 rows (one case per row) and 137 columns.\n",
    "\n",
    "[Download the database](https://www.start.umd.edu/gtd/contact/)"
   ]
  },
  {
   "cell_type": "markdown",
   "metadata": {},
   "source": [
    "### Step 1.) Look at the data and formulating questions"
   ]
  },
  {
   "cell_type": "markdown",
   "metadata": {},
   "source": [
    "`dataset` will contain our data. We can give it any name really.\n",
    "For more information on the individual columns have look at the [Codebook.pdf](https://www.start.umd.edu/gtd/downloads/Codebook.pdf)"
   ]
  },
  {
   "cell_type": "code",
   "execution_count": 2,
   "metadata": {
    "collapsed": false,
    "scrolled": false
   },
   "outputs": [
    {
     "name": "stderr",
     "output_type": "stream",
     "text": [
      "/home/zufanka/anaconda3/lib/python3.5/site-packages/IPython/core/interactiveshell.py:2717: DtypeWarning: Columns (4,61,62,66,116,117,123) have mixed types. Specify dtype option on import or set low_memory=False.\n",
      "  interactivity=interactivity, compiler=compiler, result=result)\n"
     ]
    },
    {
     "data": {
      "text/html": [
       "<div>\n",
       "<table border=\"1\" class=\"dataframe\">\n",
       "  <thead>\n",
       "    <tr style=\"text-align: right;\">\n",
       "      <th></th>\n",
       "      <th>eventid</th>\n",
       "      <th>iyear</th>\n",
       "      <th>imonth</th>\n",
       "      <th>iday</th>\n",
       "      <th>approxdate</th>\n",
       "      <th>extended</th>\n",
       "      <th>resolution</th>\n",
       "      <th>country</th>\n",
       "      <th>country_txt</th>\n",
       "      <th>region</th>\n",
       "      <th>...</th>\n",
       "      <th>addnotes</th>\n",
       "      <th>scite1</th>\n",
       "      <th>scite2</th>\n",
       "      <th>scite3</th>\n",
       "      <th>dbsource</th>\n",
       "      <th>INT_LOG</th>\n",
       "      <th>INT_IDEO</th>\n",
       "      <th>INT_MISC</th>\n",
       "      <th>INT_ANY</th>\n",
       "      <th>related</th>\n",
       "    </tr>\n",
       "  </thead>\n",
       "  <tbody>\n",
       "    <tr>\n",
       "      <th>0</th>\n",
       "      <td>197000000001</td>\n",
       "      <td>1970</td>\n",
       "      <td>0</td>\n",
       "      <td>0</td>\n",
       "      <td>NaN</td>\n",
       "      <td>0</td>\n",
       "      <td>NaN</td>\n",
       "      <td>58</td>\n",
       "      <td>Dominican Republic</td>\n",
       "      <td>2</td>\n",
       "      <td>...</td>\n",
       "      <td>NaN</td>\n",
       "      <td>NaN</td>\n",
       "      <td>NaN</td>\n",
       "      <td>NaN</td>\n",
       "      <td>PGIS</td>\n",
       "      <td>0</td>\n",
       "      <td>0</td>\n",
       "      <td>0</td>\n",
       "      <td>0</td>\n",
       "      <td>NaN</td>\n",
       "    </tr>\n",
       "    <tr>\n",
       "      <th>1</th>\n",
       "      <td>197000000002</td>\n",
       "      <td>1970</td>\n",
       "      <td>0</td>\n",
       "      <td>0</td>\n",
       "      <td>NaN</td>\n",
       "      <td>0</td>\n",
       "      <td>NaN</td>\n",
       "      <td>130</td>\n",
       "      <td>Mexico</td>\n",
       "      <td>1</td>\n",
       "      <td>...</td>\n",
       "      <td>NaN</td>\n",
       "      <td>NaN</td>\n",
       "      <td>NaN</td>\n",
       "      <td>NaN</td>\n",
       "      <td>PGIS</td>\n",
       "      <td>0</td>\n",
       "      <td>1</td>\n",
       "      <td>1</td>\n",
       "      <td>1</td>\n",
       "      <td>NaN</td>\n",
       "    </tr>\n",
       "    <tr>\n",
       "      <th>2</th>\n",
       "      <td>197001000001</td>\n",
       "      <td>1970</td>\n",
       "      <td>1</td>\n",
       "      <td>0</td>\n",
       "      <td>NaN</td>\n",
       "      <td>0</td>\n",
       "      <td>NaN</td>\n",
       "      <td>160</td>\n",
       "      <td>Philippines</td>\n",
       "      <td>5</td>\n",
       "      <td>...</td>\n",
       "      <td>NaN</td>\n",
       "      <td>NaN</td>\n",
       "      <td>NaN</td>\n",
       "      <td>NaN</td>\n",
       "      <td>PGIS</td>\n",
       "      <td>-9</td>\n",
       "      <td>-9</td>\n",
       "      <td>1</td>\n",
       "      <td>1</td>\n",
       "      <td>NaN</td>\n",
       "    </tr>\n",
       "    <tr>\n",
       "      <th>3</th>\n",
       "      <td>197001000002</td>\n",
       "      <td>1970</td>\n",
       "      <td>1</td>\n",
       "      <td>0</td>\n",
       "      <td>NaN</td>\n",
       "      <td>0</td>\n",
       "      <td>NaN</td>\n",
       "      <td>78</td>\n",
       "      <td>Greece</td>\n",
       "      <td>8</td>\n",
       "      <td>...</td>\n",
       "      <td>NaN</td>\n",
       "      <td>NaN</td>\n",
       "      <td>NaN</td>\n",
       "      <td>NaN</td>\n",
       "      <td>PGIS</td>\n",
       "      <td>-9</td>\n",
       "      <td>-9</td>\n",
       "      <td>1</td>\n",
       "      <td>1</td>\n",
       "      <td>NaN</td>\n",
       "    </tr>\n",
       "    <tr>\n",
       "      <th>4</th>\n",
       "      <td>197001000003</td>\n",
       "      <td>1970</td>\n",
       "      <td>1</td>\n",
       "      <td>0</td>\n",
       "      <td>NaN</td>\n",
       "      <td>0</td>\n",
       "      <td>NaN</td>\n",
       "      <td>101</td>\n",
       "      <td>Japan</td>\n",
       "      <td>4</td>\n",
       "      <td>...</td>\n",
       "      <td>NaN</td>\n",
       "      <td>NaN</td>\n",
       "      <td>NaN</td>\n",
       "      <td>NaN</td>\n",
       "      <td>PGIS</td>\n",
       "      <td>-9</td>\n",
       "      <td>-9</td>\n",
       "      <td>1</td>\n",
       "      <td>1</td>\n",
       "      <td>NaN</td>\n",
       "    </tr>\n",
       "  </tbody>\n",
       "</table>\n",
       "<p>5 rows × 137 columns</p>\n",
       "</div>"
      ],
      "text/plain": [
       "        eventid  iyear  imonth  iday approxdate  extended resolution  country  \\\n",
       "0  197000000001   1970       0     0        NaN         0        NaN       58   \n",
       "1  197000000002   1970       0     0        NaN         0        NaN      130   \n",
       "2  197001000001   1970       1     0        NaN         0        NaN      160   \n",
       "3  197001000002   1970       1     0        NaN         0        NaN       78   \n",
       "4  197001000003   1970       1     0        NaN         0        NaN      101   \n",
       "\n",
       "          country_txt  region   ...    addnotes scite1 scite2  scite3  \\\n",
       "0  Dominican Republic       2   ...         NaN    NaN    NaN     NaN   \n",
       "1              Mexico       1   ...         NaN    NaN    NaN     NaN   \n",
       "2         Philippines       5   ...         NaN    NaN    NaN     NaN   \n",
       "3              Greece       8   ...         NaN    NaN    NaN     NaN   \n",
       "4               Japan       4   ...         NaN    NaN    NaN     NaN   \n",
       "\n",
       "   dbsource  INT_LOG  INT_IDEO INT_MISC INT_ANY  related  \n",
       "0      PGIS        0         0        0       0      NaN  \n",
       "1      PGIS        0         1        1       1      NaN  \n",
       "2      PGIS       -9        -9        1       1      NaN  \n",
       "3      PGIS       -9        -9        1       1      NaN  \n",
       "4      PGIS       -9        -9        1       1      NaN  \n",
       "\n",
       "[5 rows x 137 columns]"
      ]
     },
     "execution_count": 2,
     "metadata": {},
     "output_type": "execute_result"
    }
   ],
   "source": [
    "dataset = pd.read_csv(\"globalterrorismdb_0616dist.csv\")\n",
    "dataset.head() #shows the first 5 rows of the dataset. \".head(10)\" would show the first 10"
   ]
  },
  {
   "cell_type": "markdown",
   "metadata": {},
   "source": [
    "What kind of questions could we pose to this data?"
   ]
  },
  {
   "cell_type": "markdown",
   "metadata": {},
   "source": [
    "### Step 2.) Select relevant parts of the dataset and transform it as needed"
   ]
  },
  {
   "cell_type": "markdown",
   "metadata": {},
   "source": [
    "This data set has too many columns. Depending on the questions we want to pose we want to select only a part of the columns. We are again going to name it `dataset`, but if we could also name it something else."
   ]
  },
  {
   "cell_type": "code",
   "execution_count": 4,
   "metadata": {
    "collapsed": false
   },
   "outputs": [
    {
     "data": {
      "text/html": [
       "<div>\n",
       "<table border=\"1\" class=\"dataframe\">\n",
       "  <thead>\n",
       "    <tr style=\"text-align: right;\">\n",
       "      <th></th>\n",
       "      <th>iyear</th>\n",
       "      <th>imonth</th>\n",
       "      <th>country_txt</th>\n",
       "      <th>region_txt</th>\n",
       "      <th>city</th>\n",
       "      <th>success</th>\n",
       "      <th>attacktype1_txt</th>\n",
       "      <th>targtype1_txt</th>\n",
       "      <th>gname</th>\n",
       "      <th>nkill</th>\n",
       "      <th>nwound</th>\n",
       "      <th>property</th>\n",
       "    </tr>\n",
       "  </thead>\n",
       "  <tbody>\n",
       "    <tr>\n",
       "      <th>0</th>\n",
       "      <td>1970</td>\n",
       "      <td>0</td>\n",
       "      <td>Dominican Republic</td>\n",
       "      <td>Central America &amp; Caribbean</td>\n",
       "      <td>Santo Domingo</td>\n",
       "      <td>1</td>\n",
       "      <td>Assassination</td>\n",
       "      <td>Private Citizens &amp; Property</td>\n",
       "      <td>MANO-D</td>\n",
       "      <td>1.0</td>\n",
       "      <td>0.0</td>\n",
       "      <td>0</td>\n",
       "    </tr>\n",
       "    <tr>\n",
       "      <th>1</th>\n",
       "      <td>1970</td>\n",
       "      <td>0</td>\n",
       "      <td>Mexico</td>\n",
       "      <td>North America</td>\n",
       "      <td>Mexico city</td>\n",
       "      <td>1</td>\n",
       "      <td>Hostage Taking (Kidnapping)</td>\n",
       "      <td>Government (Diplomatic)</td>\n",
       "      <td>23rd of September Communist League</td>\n",
       "      <td>0.0</td>\n",
       "      <td>0.0</td>\n",
       "      <td>0</td>\n",
       "    </tr>\n",
       "    <tr>\n",
       "      <th>2</th>\n",
       "      <td>1970</td>\n",
       "      <td>1</td>\n",
       "      <td>Philippines</td>\n",
       "      <td>Southeast Asia</td>\n",
       "      <td>Unknown</td>\n",
       "      <td>1</td>\n",
       "      <td>Assassination</td>\n",
       "      <td>Journalists &amp; Media</td>\n",
       "      <td>Unknown</td>\n",
       "      <td>1.0</td>\n",
       "      <td>0.0</td>\n",
       "      <td>0</td>\n",
       "    </tr>\n",
       "    <tr>\n",
       "      <th>3</th>\n",
       "      <td>1970</td>\n",
       "      <td>1</td>\n",
       "      <td>Greece</td>\n",
       "      <td>Western Europe</td>\n",
       "      <td>Athens</td>\n",
       "      <td>1</td>\n",
       "      <td>Bombing/Explosion</td>\n",
       "      <td>Government (Diplomatic)</td>\n",
       "      <td>Unknown</td>\n",
       "      <td>NaN</td>\n",
       "      <td>NaN</td>\n",
       "      <td>1</td>\n",
       "    </tr>\n",
       "    <tr>\n",
       "      <th>4</th>\n",
       "      <td>1970</td>\n",
       "      <td>1</td>\n",
       "      <td>Japan</td>\n",
       "      <td>East Asia</td>\n",
       "      <td>Fukouka</td>\n",
       "      <td>1</td>\n",
       "      <td>Facility/Infrastructure Attack</td>\n",
       "      <td>Government (Diplomatic)</td>\n",
       "      <td>Unknown</td>\n",
       "      <td>NaN</td>\n",
       "      <td>NaN</td>\n",
       "      <td>1</td>\n",
       "    </tr>\n",
       "  </tbody>\n",
       "</table>\n",
       "</div>"
      ],
      "text/plain": [
       "   iyear  imonth         country_txt                   region_txt  \\\n",
       "0   1970       0  Dominican Republic  Central America & Caribbean   \n",
       "1   1970       0              Mexico                North America   \n",
       "2   1970       1         Philippines               Southeast Asia   \n",
       "3   1970       1              Greece               Western Europe   \n",
       "4   1970       1               Japan                    East Asia   \n",
       "\n",
       "            city  success                 attacktype1_txt  \\\n",
       "0  Santo Domingo        1                   Assassination   \n",
       "1    Mexico city        1     Hostage Taking (Kidnapping)   \n",
       "2        Unknown        1                   Assassination   \n",
       "3         Athens        1               Bombing/Explosion   \n",
       "4        Fukouka        1  Facility/Infrastructure Attack   \n",
       "\n",
       "                 targtype1_txt                               gname  nkill  \\\n",
       "0  Private Citizens & Property                              MANO-D    1.0   \n",
       "1      Government (Diplomatic)  23rd of September Communist League    0.0   \n",
       "2          Journalists & Media                             Unknown    1.0   \n",
       "3      Government (Diplomatic)                             Unknown    NaN   \n",
       "4      Government (Diplomatic)                             Unknown    NaN   \n",
       "\n",
       "   nwound  property  \n",
       "0     0.0         0  \n",
       "1     0.0         0  \n",
       "2     0.0         0  \n",
       "3     NaN         1  \n",
       "4     NaN         1  "
      ]
     },
     "execution_count": 4,
     "metadata": {},
     "output_type": "execute_result"
    }
   ],
   "source": [
    "dataset = pd.read_csv(\"globalterrorismdb_0616dist.csv\", usecols= [\"iyear\", \"imonth\", \"country_txt\", \"region_txt\",\n",
    "                                                                 \"city\", \"success\", \"attacktype1_txt\", \"targtype1_txt\",\n",
    "                                                                 \"gname\", \"nkill\", \"nwound\", \"property\"])\n",
    "dataset.head()"
   ]
  },
  {
   "cell_type": "markdown",
   "metadata": {},
   "source": [
    "The column names. Let's rename them to be better readable."
   ]
  },
  {
   "cell_type": "code",
   "execution_count": 5,
   "metadata": {
    "collapsed": false
   },
   "outputs": [],
   "source": [
    "dataset = dataset.rename(columns={\n",
    "        'iyear': 'year',\n",
    "        'imonth': 'month',\n",
    "        'country_txt': 'country',\n",
    "        'region_txt' : 'region',\n",
    "        'attacktype1_txt' : 'attack_type',\n",
    "        'targtype1_txt' : 'target',\n",
    "        'gname' : 'group',\n",
    "        'nkill' : 'killed',\n",
    "        'nwound': 'wounded',\n",
    "        'property' : 'property_damage'\n",
    "    })"
   ]
  },
  {
   "cell_type": "markdown",
   "metadata": {},
   "source": [
    "### Step 3) Ask questions"
   ]
  },
  {
   "cell_type": "markdown",
   "metadata": {},
   "source": [
    "Let's first have a look on how complete is our data slice. You can see that most of the columns have `156772 non-null something`. We assume this is how many rows there are in the dataset.<br>\n",
    "- `int64` is a whole number\n",
    "- `float64` is a number with decimals\n",
    "- `object` is a text\n",
    "\n",
    "But some of them have less than 156772 entries."
   ]
  },
  {
   "cell_type": "code",
   "execution_count": 3,
   "metadata": {
    "collapsed": false
   },
   "outputs": [
    {
     "name": "stdout",
     "output_type": "stream",
     "text": [
      "<class 'pandas.core.frame.DataFrame'>\n",
      "RangeIndex: 156772 entries, 0 to 156771\n",
      "Data columns (total 137 columns):\n",
      "eventid               156772 non-null int64\n",
      "iyear                 156772 non-null int64\n",
      "imonth                156772 non-null int64\n",
      "iday                  156772 non-null int64\n",
      "approxdate            4756 non-null object\n",
      "extended              156772 non-null int64\n",
      "resolution            3502 non-null object\n",
      "country               156772 non-null int64\n",
      "country_txt           156772 non-null object\n",
      "region                156772 non-null int64\n",
      "region_txt            156772 non-null object\n",
      "provstate             142252 non-null object\n",
      "city                  156326 non-null object\n",
      "latitude              152253 non-null float64\n",
      "longitude             152253 non-null float64\n",
      "specificity           156772 non-null int64\n",
      "vicinity              156772 non-null int64\n",
      "location              42211 non-null object\n",
      "summary               90632 non-null object\n",
      "crit1                 156772 non-null int64\n",
      "crit2                 156772 non-null int64\n",
      "crit3                 156772 non-null int64\n",
      "doubtterr             156771 non-null float64\n",
      "alternative           24236 non-null float64\n",
      "alternative_txt       156772 non-null object\n",
      "multiple              156772 non-null int64\n",
      "success               156772 non-null int64\n",
      "suicide               156772 non-null int64\n",
      "attacktype1           156772 non-null int64\n",
      "attacktype1_txt       156772 non-null object\n",
      "attacktype2           4966 non-null float64\n",
      "attacktype2_txt       156772 non-null object\n",
      "attacktype3           312 non-null float64\n",
      "attacktype3_txt       156772 non-null object\n",
      "targtype1             156772 non-null int64\n",
      "targtype1_txt         156772 non-null object\n",
      "targsubtype1          148617 non-null float64\n",
      "targsubtype1_txt      156772 non-null object\n",
      "corp1                 114196 non-null object\n",
      "target1               156124 non-null object\n",
      "natlty1               155544 non-null float64\n",
      "natlty1_txt           156772 non-null object\n",
      "targtype2             8909 non-null float64\n",
      "targtype2_txt         156772 non-null object\n",
      "targsubtype2          8469 non-null float64\n",
      "targsubtype2_txt      156772 non-null object\n",
      "corp2                 7880 non-null object\n",
      "target2               8783 non-null object\n",
      "natlty2               8600 non-null float64\n",
      "natlty2_txt           156772 non-null object\n",
      "targtype3             932 non-null float64\n",
      "targtype3_txt         156772 non-null object\n",
      "targsubtype3          860 non-null float64\n",
      "targsubtype3_txt      156772 non-null object\n",
      "corp3                 782 non-null object\n",
      "target3               931 non-null object\n",
      "natlty3               904 non-null float64\n",
      "natlty3_txt           156772 non-null object\n",
      "gname                 156772 non-null object\n",
      "gsubname              4675 non-null object\n",
      "gname2                1219 non-null object\n",
      "gsubname2             121 non-null object\n",
      "gname3                164 non-null object\n",
      "ingroup               156772 non-null int64\n",
      "ingroup2              1219 non-null float64\n",
      "ingroup3              164 non-null float64\n",
      "gsubname3             6 non-null object\n",
      "motive                46592 non-null object\n",
      "guncertain1           156394 non-null float64\n",
      "guncertain2           1162 non-null float64\n",
      "guncertain3           160 non-null float64\n",
      "nperps                85640 non-null float64\n",
      "nperpcap              87262 non-null float64\n",
      "claimed               90631 non-null float64\n",
      "claimmode             13276 non-null float64\n",
      "claimmode_txt         156772 non-null object\n",
      "claim2                1095 non-null float64\n",
      "claimmode2            405 non-null float64\n",
      "claimmode2_txt        156772 non-null object\n",
      "claim3                158 non-null float64\n",
      "claimmode3            76 non-null float64\n",
      "claimmode3_txt        156772 non-null object\n",
      "compclaim             4609 non-null float64\n",
      "weaptype1             156772 non-null int64\n",
      "weaptype1_txt         156772 non-null object\n",
      "weapsubtype1          138865 non-null float64\n",
      "weapsubtype1_txt      156772 non-null object\n",
      "weaptype2             10413 non-null float64\n",
      "weaptype2_txt         156772 non-null object\n",
      "weapsubtype2          9295 non-null float64\n",
      "weapsubtype2_txt      156772 non-null object\n",
      "weaptype3             1432 non-null float64\n",
      "weaptype3_txt         156772 non-null object\n",
      "weapsubtype3          1306 non-null float64\n",
      "weapsubtype3_txt      156772 non-null object\n",
      "weaptype4             74 non-null float64\n",
      "weaptype4_txt         156772 non-null object\n",
      "weapsubtype4          71 non-null float64\n",
      "weapsubtype4_txt      156772 non-null object\n",
      "weapdetail            105834 non-null object\n",
      "nkill                 147827 non-null float64\n",
      "nkillus               92315 non-null float64\n",
      "nkillter              90384 non-null float64\n",
      "nwound                142572 non-null float64\n",
      "nwoundus              92066 non-null float64\n",
      "nwoundte              88462 non-null float64\n",
      "property              156772 non-null int64\n",
      "propextent            56352 non-null float64\n",
      "propextent_txt        156772 non-null object\n",
      "propvalue             31312 non-null float64\n",
      "propcomment           49422 non-null object\n",
      "ishostkid             156594 non-null float64\n",
      "nhostkid              11268 non-null float64\n",
      "nhostkidus            11213 non-null float64\n",
      "nhours                3302 non-null float64\n",
      "ndays                 6582 non-null float64\n",
      "divert                289 non-null object\n",
      "kidhijcountry         3290 non-null object\n",
      "ransom                75092 non-null float64\n",
      "ransomamt             1195 non-null float64\n",
      "ransomamtus           411 non-null float64\n",
      "ransompaid            623 non-null float64\n",
      "ransompaidus          402 non-null float64\n",
      "ransomnote            421 non-null object\n",
      "hostkidoutcome        8685 non-null float64\n",
      "hostkidoutcome_txt    156772 non-null object\n",
      "nreleased             8095 non-null float64\n",
      "addnotes              21924 non-null object\n",
      "scite1                90442 non-null object\n",
      "scite2                61161 non-null object\n",
      "scite3                34132 non-null object\n",
      "dbsource              156772 non-null object\n",
      "INT_LOG               156772 non-null int64\n",
      "INT_IDEO              156772 non-null int64\n",
      "INT_MISC              156772 non-null int64\n",
      "INT_ANY               156772 non-null int64\n",
      "related               20422 non-null object\n",
      "dtypes: float64(55), int64(24), object(58)\n",
      "memory usage: 163.9+ MB\n"
     ]
    }
   ],
   "source": [
    "dataset.info()"
   ]
  },
  {
   "cell_type": "markdown",
   "metadata": {},
   "source": [
    "Let's see which and how many information we are missing"
   ]
  },
  {
   "cell_type": "code",
   "execution_count": 7,
   "metadata": {
    "collapsed": false
   },
   "outputs": [
    {
     "data": {
      "text/plain": [
       "year                   0\n",
       "month                  0\n",
       "country                0\n",
       "region                 0\n",
       "city                 446\n",
       "success                0\n",
       "attack_type            0\n",
       "target                 0\n",
       "group                  0\n",
       "killed              8945\n",
       "wounded            14200\n",
       "property_damage        0\n",
       "dtype: int64"
      ]
     },
     "execution_count": 7,
     "metadata": {},
     "output_type": "execute_result"
    }
   ],
   "source": [
    "dataset.isnull().sum()"
   ]
  },
  {
   "cell_type": "markdown",
   "metadata": {},
   "source": [
    "We can also chose a specific column and look for the missing data there"
   ]
  },
  {
   "cell_type": "code",
   "execution_count": 22,
   "metadata": {
    "collapsed": false
   },
   "outputs": [
    {
     "data": {
      "text/plain": [
       "446"
      ]
     },
     "execution_count": 22,
     "metadata": {},
     "output_type": "execute_result"
    }
   ],
   "source": [
    "dataset[\"city\"].isnull().sum()"
   ]
  },
  {
   "cell_type": "markdown",
   "metadata": {},
   "source": [
    "... or more columns than one"
   ]
  },
  {
   "cell_type": "code",
   "execution_count": 21,
   "metadata": {
    "collapsed": false
   },
   "outputs": [
    {
     "data": {
      "text/plain": [
       "city       446\n",
       "killed    8945\n",
       "dtype: int64"
      ]
     },
     "execution_count": 21,
     "metadata": {},
     "output_type": "execute_result"
    }
   ],
   "source": [
    "dataset[[\"city\",\"killed\"]].isnull().sum()"
   ]
  },
  {
   "cell_type": "markdown",
   "metadata": {},
   "source": [
    "This is how we look at all the unique values in a column"
   ]
  },
  {
   "cell_type": "code",
   "execution_count": 23,
   "metadata": {
    "collapsed": false
   },
   "outputs": [
    {
     "data": {
      "text/plain": [
       "array(['Private Citizens & Property', 'Government (Diplomatic)',\n",
       "       'Journalists & Media', 'Police', 'Utilities', 'Military',\n",
       "       'Government (General)', 'Airports & Aircraft', 'Business',\n",
       "       'Educational Institution', 'Violent Political Party',\n",
       "       'Religious Figures/Institutions', 'Unknown', 'Transportation',\n",
       "       'Tourists', 'NGO', 'Telecommunication', 'Food or Water Supply',\n",
       "       'Terrorists/Non-State Militia', 'Other', 'Maritime',\n",
       "       'Abortion Related'], dtype=object)"
      ]
     },
     "execution_count": 23,
     "metadata": {},
     "output_type": "execute_result"
    }
   ],
   "source": [
    "dataset[\"target\"].unique()"
   ]
  },
  {
   "cell_type": "markdown",
   "metadata": {},
   "source": [
    "You probably first want to know what the data you are looking at looks like. This requires a bit of a training, but it's not hard to learn."
   ]
  },
  {
   "cell_type": "markdown",
   "metadata": {},
   "source": [
    "### simple statistics"
   ]
  },
  {
   "cell_type": "code",
   "execution_count": 10,
   "metadata": {
    "collapsed": false
   },
   "outputs": [
    {
     "name": "stderr",
     "output_type": "stream",
     "text": [
      "/home/zufanka/anaconda3/lib/python3.5/site-packages/numpy/lib/function_base.py:3834: RuntimeWarning: Invalid value encountered in percentile\n",
      "  RuntimeWarning)\n"
     ]
    },
    {
     "data": {
      "text/html": [
       "<div>\n",
       "<table border=\"1\" class=\"dataframe\">\n",
       "  <thead>\n",
       "    <tr style=\"text-align: right;\">\n",
       "      <th></th>\n",
       "      <th>year</th>\n",
       "      <th>month</th>\n",
       "      <th>success</th>\n",
       "      <th>killed</th>\n",
       "      <th>wounded</th>\n",
       "      <th>property_damage</th>\n",
       "    </tr>\n",
       "  </thead>\n",
       "  <tbody>\n",
       "    <tr>\n",
       "      <th>count</th>\n",
       "      <td>156772.000000</td>\n",
       "      <td>156772.000000</td>\n",
       "      <td>156772.000000</td>\n",
       "      <td>147827.000000</td>\n",
       "      <td>142572.000000</td>\n",
       "      <td>156772.000000</td>\n",
       "    </tr>\n",
       "    <tr>\n",
       "      <th>mean</th>\n",
       "      <td>2000.474083</td>\n",
       "      <td>6.484666</td>\n",
       "      <td>0.903612</td>\n",
       "      <td>2.359237</td>\n",
       "      <td>3.089926</td>\n",
       "      <td>-0.434051</td>\n",
       "    </tr>\n",
       "    <tr>\n",
       "      <th>std</th>\n",
       "      <td>12.982397</td>\n",
       "      <td>3.392225</td>\n",
       "      <td>0.295124</td>\n",
       "      <td>11.421270</td>\n",
       "      <td>22.722313</td>\n",
       "      <td>3.031945</td>\n",
       "    </tr>\n",
       "    <tr>\n",
       "      <th>min</th>\n",
       "      <td>1970.000000</td>\n",
       "      <td>0.000000</td>\n",
       "      <td>0.000000</td>\n",
       "      <td>0.000000</td>\n",
       "      <td>0.000000</td>\n",
       "      <td>-9.000000</td>\n",
       "    </tr>\n",
       "    <tr>\n",
       "      <th>25%</th>\n",
       "      <td>1989.000000</td>\n",
       "      <td>4.000000</td>\n",
       "      <td>1.000000</td>\n",
       "      <td>NaN</td>\n",
       "      <td>NaN</td>\n",
       "      <td>0.000000</td>\n",
       "    </tr>\n",
       "    <tr>\n",
       "      <th>50%</th>\n",
       "      <td>2005.000000</td>\n",
       "      <td>6.000000</td>\n",
       "      <td>1.000000</td>\n",
       "      <td>NaN</td>\n",
       "      <td>NaN</td>\n",
       "      <td>1.000000</td>\n",
       "    </tr>\n",
       "    <tr>\n",
       "      <th>75%</th>\n",
       "      <td>2013.000000</td>\n",
       "      <td>9.000000</td>\n",
       "      <td>1.000000</td>\n",
       "      <td>NaN</td>\n",
       "      <td>NaN</td>\n",
       "      <td>1.000000</td>\n",
       "    </tr>\n",
       "    <tr>\n",
       "      <th>max</th>\n",
       "      <td>2015.000000</td>\n",
       "      <td>12.000000</td>\n",
       "      <td>1.000000</td>\n",
       "      <td>1500.000000</td>\n",
       "      <td>5500.000000</td>\n",
       "      <td>1.000000</td>\n",
       "    </tr>\n",
       "  </tbody>\n",
       "</table>\n",
       "</div>"
      ],
      "text/plain": [
       "                year          month        success         killed  \\\n",
       "count  156772.000000  156772.000000  156772.000000  147827.000000   \n",
       "mean     2000.474083       6.484666       0.903612       2.359237   \n",
       "std        12.982397       3.392225       0.295124      11.421270   \n",
       "min      1970.000000       0.000000       0.000000       0.000000   \n",
       "25%      1989.000000       4.000000       1.000000            NaN   \n",
       "50%      2005.000000       6.000000       1.000000            NaN   \n",
       "75%      2013.000000       9.000000       1.000000            NaN   \n",
       "max      2015.000000      12.000000       1.000000    1500.000000   \n",
       "\n",
       "             wounded  property_damage  \n",
       "count  142572.000000    156772.000000  \n",
       "mean        3.089926        -0.434051  \n",
       "std        22.722313         3.031945  \n",
       "min         0.000000        -9.000000  \n",
       "25%              NaN         0.000000  \n",
       "50%              NaN         1.000000  \n",
       "75%              NaN         1.000000  \n",
       "max      5500.000000         1.000000  "
      ]
     },
     "execution_count": 10,
     "metadata": {},
     "output_type": "execute_result"
    }
   ],
   "source": [
    "dataset.describe()"
   ]
  },
  {
   "cell_type": "markdown",
   "metadata": {},
   "source": [
    "Let's dive even further into the data and look at single different accidents with the functions `.sort_values()` and `.groupby()`. Can you guess what they do?"
   ]
  },
  {
   "cell_type": "markdown",
   "metadata": {},
   "source": [
    "### `.sort_values()`\n",
    "`.sort_values()` is meaningful for looking for TOP or BOTTOM numerical values (`float64` or `int64`)\n",
    "\n",
    "#### questions:\n",
    "\n",
    "- what is de TOP 10 of ... ?"
   ]
  },
  {
   "cell_type": "markdown",
   "metadata": {},
   "source": [
    "**Q:** Which 10 accidents were the most fatal?"
   ]
  },
  {
   "cell_type": "code",
   "execution_count": 26,
   "metadata": {
    "collapsed": false
   },
   "outputs": [
    {
     "data": {
      "text/html": [
       "<div>\n",
       "<table border=\"1\" class=\"dataframe\">\n",
       "  <thead>\n",
       "    <tr style=\"text-align: right;\">\n",
       "      <th></th>\n",
       "      <th>year</th>\n",
       "      <th>month</th>\n",
       "      <th>country</th>\n",
       "      <th>region</th>\n",
       "      <th>city</th>\n",
       "      <th>success</th>\n",
       "      <th>attack_type</th>\n",
       "      <th>target</th>\n",
       "      <th>group</th>\n",
       "      <th>killed</th>\n",
       "      <th>wounded</th>\n",
       "      <th>property_damage</th>\n",
       "    </tr>\n",
       "  </thead>\n",
       "  <tbody>\n",
       "    <tr>\n",
       "      <th>133286</th>\n",
       "      <td>2014</td>\n",
       "      <td>6</td>\n",
       "      <td>Iraq</td>\n",
       "      <td>Middle East &amp; North Africa</td>\n",
       "      <td>Tikrit</td>\n",
       "      <td>1</td>\n",
       "      <td>Hostage Taking (Kidnapping)</td>\n",
       "      <td>Military</td>\n",
       "      <td>Islamic State of Iraq and the Levant (ISIL)</td>\n",
       "      <td>1500.0</td>\n",
       "      <td>NaN</td>\n",
       "      <td>0</td>\n",
       "    </tr>\n",
       "    <tr>\n",
       "      <th>73055</th>\n",
       "      <td>2001</td>\n",
       "      <td>9</td>\n",
       "      <td>United States</td>\n",
       "      <td>North America</td>\n",
       "      <td>New York City</td>\n",
       "      <td>1</td>\n",
       "      <td>Hijacking</td>\n",
       "      <td>Private Citizens &amp; Property</td>\n",
       "      <td>Al-Qaida</td>\n",
       "      <td>1381.5</td>\n",
       "      <td>NaN</td>\n",
       "      <td>1</td>\n",
       "    </tr>\n",
       "    <tr>\n",
       "      <th>73054</th>\n",
       "      <td>2001</td>\n",
       "      <td>9</td>\n",
       "      <td>United States</td>\n",
       "      <td>North America</td>\n",
       "      <td>New York City</td>\n",
       "      <td>1</td>\n",
       "      <td>Hijacking</td>\n",
       "      <td>Private Citizens &amp; Property</td>\n",
       "      <td>Al-Qaida</td>\n",
       "      <td>1381.5</td>\n",
       "      <td>NaN</td>\n",
       "      <td>1</td>\n",
       "    </tr>\n",
       "    <tr>\n",
       "      <th>55858</th>\n",
       "      <td>1994</td>\n",
       "      <td>4</td>\n",
       "      <td>Rwanda</td>\n",
       "      <td>Sub-Saharan Africa</td>\n",
       "      <td>Gikoro</td>\n",
       "      <td>1</td>\n",
       "      <td>Armed Assault</td>\n",
       "      <td>Private Citizens &amp; Property</td>\n",
       "      <td>Hutus</td>\n",
       "      <td>1180.0</td>\n",
       "      <td>0.0</td>\n",
       "      <td>1</td>\n",
       "    </tr>\n",
       "    <tr>\n",
       "      <th>132993</th>\n",
       "      <td>2014</td>\n",
       "      <td>6</td>\n",
       "      <td>Iraq</td>\n",
       "      <td>Middle East &amp; North Africa</td>\n",
       "      <td>Badush</td>\n",
       "      <td>1</td>\n",
       "      <td>Armed Assault</td>\n",
       "      <td>Police</td>\n",
       "      <td>Islamic State of Iraq and the Levant (ISIL)</td>\n",
       "      <td>670.0</td>\n",
       "      <td>0.0</td>\n",
       "      <td>1</td>\n",
       "    </tr>\n",
       "    <tr>\n",
       "      <th>76258</th>\n",
       "      <td>2004</td>\n",
       "      <td>3</td>\n",
       "      <td>Nepal</td>\n",
       "      <td>South Asia</td>\n",
       "      <td>Dhading district</td>\n",
       "      <td>1</td>\n",
       "      <td>Armed Assault</td>\n",
       "      <td>Government (General)</td>\n",
       "      <td>Communist Party of Nepal- Maoist (CPN-M)</td>\n",
       "      <td>518.0</td>\n",
       "      <td>216.0</td>\n",
       "      <td>1</td>\n",
       "    </tr>\n",
       "    <tr>\n",
       "      <th>136503</th>\n",
       "      <td>2014</td>\n",
       "      <td>8</td>\n",
       "      <td>Syria</td>\n",
       "      <td>Middle East &amp; North Africa</td>\n",
       "      <td>Unknown</td>\n",
       "      <td>1</td>\n",
       "      <td>Hostage Taking (Kidnapping)</td>\n",
       "      <td>Military</td>\n",
       "      <td>Islamic State of Iraq and the Levant (ISIL)</td>\n",
       "      <td>517.0</td>\n",
       "      <td>NaN</td>\n",
       "      <td>1</td>\n",
       "    </tr>\n",
       "    <tr>\n",
       "      <th>136045</th>\n",
       "      <td>2014</td>\n",
       "      <td>8</td>\n",
       "      <td>Iraq</td>\n",
       "      <td>Middle East &amp; North Africa</td>\n",
       "      <td>Sinjar</td>\n",
       "      <td>1</td>\n",
       "      <td>Hostage Taking (Kidnapping)</td>\n",
       "      <td>Private Citizens &amp; Property</td>\n",
       "      <td>Islamic State of Iraq and the Levant (ISIL)</td>\n",
       "      <td>500.0</td>\n",
       "      <td>NaN</td>\n",
       "      <td>-9</td>\n",
       "    </tr>\n",
       "    <tr>\n",
       "      <th>6553</th>\n",
       "      <td>1978</td>\n",
       "      <td>8</td>\n",
       "      <td>Iran</td>\n",
       "      <td>Middle East &amp; North Africa</td>\n",
       "      <td>Abadan</td>\n",
       "      <td>1</td>\n",
       "      <td>Facility/Infrastructure Attack</td>\n",
       "      <td>Business</td>\n",
       "      <td>Mujahedin-e Khalq (MEK)</td>\n",
       "      <td>422.0</td>\n",
       "      <td>0.0</td>\n",
       "      <td>1</td>\n",
       "    </tr>\n",
       "    <tr>\n",
       "      <th>90276</th>\n",
       "      <td>2009</td>\n",
       "      <td>1</td>\n",
       "      <td>Democratic Republic of the Congo</td>\n",
       "      <td>Sub-Saharan Africa</td>\n",
       "      <td>Tora</td>\n",
       "      <td>1</td>\n",
       "      <td>Facility/Infrastructure Attack</td>\n",
       "      <td>Religious Figures/Institutions</td>\n",
       "      <td>Lord's Resistance Army (LRA)</td>\n",
       "      <td>400.0</td>\n",
       "      <td>NaN</td>\n",
       "      <td>1</td>\n",
       "    </tr>\n",
       "  </tbody>\n",
       "</table>\n",
       "</div>"
      ],
      "text/plain": [
       "        year  month                           country  \\\n",
       "133286  2014      6                              Iraq   \n",
       "73055   2001      9                     United States   \n",
       "73054   2001      9                     United States   \n",
       "55858   1994      4                            Rwanda   \n",
       "132993  2014      6                              Iraq   \n",
       "76258   2004      3                             Nepal   \n",
       "136503  2014      8                             Syria   \n",
       "136045  2014      8                              Iraq   \n",
       "6553    1978      8                              Iran   \n",
       "90276   2009      1  Democratic Republic of the Congo   \n",
       "\n",
       "                            region              city  success  \\\n",
       "133286  Middle East & North Africa            Tikrit        1   \n",
       "73055                North America     New York City        1   \n",
       "73054                North America     New York City        1   \n",
       "55858           Sub-Saharan Africa            Gikoro        1   \n",
       "132993  Middle East & North Africa            Badush        1   \n",
       "76258                   South Asia  Dhading district        1   \n",
       "136503  Middle East & North Africa           Unknown        1   \n",
       "136045  Middle East & North Africa            Sinjar        1   \n",
       "6553    Middle East & North Africa            Abadan        1   \n",
       "90276           Sub-Saharan Africa              Tora        1   \n",
       "\n",
       "                           attack_type                          target  \\\n",
       "133286     Hostage Taking (Kidnapping)                        Military   \n",
       "73055                        Hijacking     Private Citizens & Property   \n",
       "73054                        Hijacking     Private Citizens & Property   \n",
       "55858                    Armed Assault     Private Citizens & Property   \n",
       "132993                   Armed Assault                          Police   \n",
       "76258                    Armed Assault            Government (General)   \n",
       "136503     Hostage Taking (Kidnapping)                        Military   \n",
       "136045     Hostage Taking (Kidnapping)     Private Citizens & Property   \n",
       "6553    Facility/Infrastructure Attack                        Business   \n",
       "90276   Facility/Infrastructure Attack  Religious Figures/Institutions   \n",
       "\n",
       "                                              group  killed  wounded  \\\n",
       "133286  Islamic State of Iraq and the Levant (ISIL)  1500.0      NaN   \n",
       "73055                                      Al-Qaida  1381.5      NaN   \n",
       "73054                                      Al-Qaida  1381.5      NaN   \n",
       "55858                                         Hutus  1180.0      0.0   \n",
       "132993  Islamic State of Iraq and the Levant (ISIL)   670.0      0.0   \n",
       "76258      Communist Party of Nepal- Maoist (CPN-M)   518.0    216.0   \n",
       "136503  Islamic State of Iraq and the Levant (ISIL)   517.0      NaN   \n",
       "136045  Islamic State of Iraq and the Levant (ISIL)   500.0      NaN   \n",
       "6553                        Mujahedin-e Khalq (MEK)   422.0      0.0   \n",
       "90276                  Lord's Resistance Army (LRA)   400.0      NaN   \n",
       "\n",
       "        property_damage  \n",
       "133286                0  \n",
       "73055                 1  \n",
       "73054                 1  \n",
       "55858                 1  \n",
       "132993                1  \n",
       "76258                 1  \n",
       "136503                1  \n",
       "136045               -9  \n",
       "6553                  1  \n",
       "90276                 1  "
      ]
     },
     "execution_count": 26,
     "metadata": {},
     "output_type": "execute_result"
    }
   ],
   "source": [
    "dataset.sort_values(by='killed', ascending=False).head(10)"
   ]
  },
  {
   "cell_type": "markdown",
   "metadata": {},
   "source": [
    "You can do the same with the `.nlargest()` function"
   ]
  },
  {
   "cell_type": "code",
   "execution_count": 14,
   "metadata": {
    "collapsed": false
   },
   "outputs": [
    {
     "data": {
      "text/html": [
       "<div>\n",
       "<table border=\"1\" class=\"dataframe\">\n",
       "  <thead>\n",
       "    <tr style=\"text-align: right;\">\n",
       "      <th></th>\n",
       "      <th>year</th>\n",
       "      <th>month</th>\n",
       "      <th>country</th>\n",
       "      <th>region</th>\n",
       "      <th>city</th>\n",
       "      <th>success</th>\n",
       "      <th>attack_type</th>\n",
       "      <th>target</th>\n",
       "      <th>group</th>\n",
       "      <th>killed</th>\n",
       "      <th>wounded</th>\n",
       "      <th>property_damage</th>\n",
       "    </tr>\n",
       "  </thead>\n",
       "  <tbody>\n",
       "    <tr>\n",
       "      <th>133286</th>\n",
       "      <td>2014</td>\n",
       "      <td>6</td>\n",
       "      <td>Iraq</td>\n",
       "      <td>Middle East &amp; North Africa</td>\n",
       "      <td>Tikrit</td>\n",
       "      <td>1</td>\n",
       "      <td>Hostage Taking (Kidnapping)</td>\n",
       "      <td>Military</td>\n",
       "      <td>Islamic State of Iraq and the Levant (ISIL)</td>\n",
       "      <td>1500.0</td>\n",
       "      <td>NaN</td>\n",
       "      <td>0</td>\n",
       "    </tr>\n",
       "    <tr>\n",
       "      <th>73054</th>\n",
       "      <td>2001</td>\n",
       "      <td>9</td>\n",
       "      <td>United States</td>\n",
       "      <td>North America</td>\n",
       "      <td>New York City</td>\n",
       "      <td>1</td>\n",
       "      <td>Hijacking</td>\n",
       "      <td>Private Citizens &amp; Property</td>\n",
       "      <td>Al-Qaida</td>\n",
       "      <td>1381.5</td>\n",
       "      <td>NaN</td>\n",
       "      <td>1</td>\n",
       "    </tr>\n",
       "    <tr>\n",
       "      <th>73055</th>\n",
       "      <td>2001</td>\n",
       "      <td>9</td>\n",
       "      <td>United States</td>\n",
       "      <td>North America</td>\n",
       "      <td>New York City</td>\n",
       "      <td>1</td>\n",
       "      <td>Hijacking</td>\n",
       "      <td>Private Citizens &amp; Property</td>\n",
       "      <td>Al-Qaida</td>\n",
       "      <td>1381.5</td>\n",
       "      <td>NaN</td>\n",
       "      <td>1</td>\n",
       "    </tr>\n",
       "    <tr>\n",
       "      <th>55858</th>\n",
       "      <td>1994</td>\n",
       "      <td>4</td>\n",
       "      <td>Rwanda</td>\n",
       "      <td>Sub-Saharan Africa</td>\n",
       "      <td>Gikoro</td>\n",
       "      <td>1</td>\n",
       "      <td>Armed Assault</td>\n",
       "      <td>Private Citizens &amp; Property</td>\n",
       "      <td>Hutus</td>\n",
       "      <td>1180.0</td>\n",
       "      <td>0.0</td>\n",
       "      <td>1</td>\n",
       "    </tr>\n",
       "    <tr>\n",
       "      <th>132993</th>\n",
       "      <td>2014</td>\n",
       "      <td>6</td>\n",
       "      <td>Iraq</td>\n",
       "      <td>Middle East &amp; North Africa</td>\n",
       "      <td>Badush</td>\n",
       "      <td>1</td>\n",
       "      <td>Armed Assault</td>\n",
       "      <td>Police</td>\n",
       "      <td>Islamic State of Iraq and the Levant (ISIL)</td>\n",
       "      <td>670.0</td>\n",
       "      <td>0.0</td>\n",
       "      <td>1</td>\n",
       "    </tr>\n",
       "    <tr>\n",
       "      <th>76258</th>\n",
       "      <td>2004</td>\n",
       "      <td>3</td>\n",
       "      <td>Nepal</td>\n",
       "      <td>South Asia</td>\n",
       "      <td>Dhading district</td>\n",
       "      <td>1</td>\n",
       "      <td>Armed Assault</td>\n",
       "      <td>Government (General)</td>\n",
       "      <td>Communist Party of Nepal- Maoist (CPN-M)</td>\n",
       "      <td>518.0</td>\n",
       "      <td>216.0</td>\n",
       "      <td>1</td>\n",
       "    </tr>\n",
       "    <tr>\n",
       "      <th>136503</th>\n",
       "      <td>2014</td>\n",
       "      <td>8</td>\n",
       "      <td>Syria</td>\n",
       "      <td>Middle East &amp; North Africa</td>\n",
       "      <td>Unknown</td>\n",
       "      <td>1</td>\n",
       "      <td>Hostage Taking (Kidnapping)</td>\n",
       "      <td>Military</td>\n",
       "      <td>Islamic State of Iraq and the Levant (ISIL)</td>\n",
       "      <td>517.0</td>\n",
       "      <td>NaN</td>\n",
       "      <td>1</td>\n",
       "    </tr>\n",
       "    <tr>\n",
       "      <th>136045</th>\n",
       "      <td>2014</td>\n",
       "      <td>8</td>\n",
       "      <td>Iraq</td>\n",
       "      <td>Middle East &amp; North Africa</td>\n",
       "      <td>Sinjar</td>\n",
       "      <td>1</td>\n",
       "      <td>Hostage Taking (Kidnapping)</td>\n",
       "      <td>Private Citizens &amp; Property</td>\n",
       "      <td>Islamic State of Iraq and the Levant (ISIL)</td>\n",
       "      <td>500.0</td>\n",
       "      <td>NaN</td>\n",
       "      <td>-9</td>\n",
       "    </tr>\n",
       "    <tr>\n",
       "      <th>6553</th>\n",
       "      <td>1978</td>\n",
       "      <td>8</td>\n",
       "      <td>Iran</td>\n",
       "      <td>Middle East &amp; North Africa</td>\n",
       "      <td>Abadan</td>\n",
       "      <td>1</td>\n",
       "      <td>Facility/Infrastructure Attack</td>\n",
       "      <td>Business</td>\n",
       "      <td>Mujahedin-e Khalq (MEK)</td>\n",
       "      <td>422.0</td>\n",
       "      <td>0.0</td>\n",
       "      <td>1</td>\n",
       "    </tr>\n",
       "    <tr>\n",
       "      <th>90276</th>\n",
       "      <td>2009</td>\n",
       "      <td>1</td>\n",
       "      <td>Democratic Republic of the Congo</td>\n",
       "      <td>Sub-Saharan Africa</td>\n",
       "      <td>Tora</td>\n",
       "      <td>1</td>\n",
       "      <td>Facility/Infrastructure Attack</td>\n",
       "      <td>Religious Figures/Institutions</td>\n",
       "      <td>Lord's Resistance Army (LRA)</td>\n",
       "      <td>400.0</td>\n",
       "      <td>NaN</td>\n",
       "      <td>1</td>\n",
       "    </tr>\n",
       "  </tbody>\n",
       "</table>\n",
       "</div>"
      ],
      "text/plain": [
       "        year  month                           country  \\\n",
       "133286  2014      6                              Iraq   \n",
       "73054   2001      9                     United States   \n",
       "73055   2001      9                     United States   \n",
       "55858   1994      4                            Rwanda   \n",
       "132993  2014      6                              Iraq   \n",
       "76258   2004      3                             Nepal   \n",
       "136503  2014      8                             Syria   \n",
       "136045  2014      8                              Iraq   \n",
       "6553    1978      8                              Iran   \n",
       "90276   2009      1  Democratic Republic of the Congo   \n",
       "\n",
       "                            region              city  success  \\\n",
       "133286  Middle East & North Africa            Tikrit        1   \n",
       "73054                North America     New York City        1   \n",
       "73055                North America     New York City        1   \n",
       "55858           Sub-Saharan Africa            Gikoro        1   \n",
       "132993  Middle East & North Africa            Badush        1   \n",
       "76258                   South Asia  Dhading district        1   \n",
       "136503  Middle East & North Africa           Unknown        1   \n",
       "136045  Middle East & North Africa            Sinjar        1   \n",
       "6553    Middle East & North Africa            Abadan        1   \n",
       "90276           Sub-Saharan Africa              Tora        1   \n",
       "\n",
       "                           attack_type                          target  \\\n",
       "133286     Hostage Taking (Kidnapping)                        Military   \n",
       "73054                        Hijacking     Private Citizens & Property   \n",
       "73055                        Hijacking     Private Citizens & Property   \n",
       "55858                    Armed Assault     Private Citizens & Property   \n",
       "132993                   Armed Assault                          Police   \n",
       "76258                    Armed Assault            Government (General)   \n",
       "136503     Hostage Taking (Kidnapping)                        Military   \n",
       "136045     Hostage Taking (Kidnapping)     Private Citizens & Property   \n",
       "6553    Facility/Infrastructure Attack                        Business   \n",
       "90276   Facility/Infrastructure Attack  Religious Figures/Institutions   \n",
       "\n",
       "                                              group  killed  wounded  \\\n",
       "133286  Islamic State of Iraq and the Levant (ISIL)  1500.0      NaN   \n",
       "73054                                      Al-Qaida  1381.5      NaN   \n",
       "73055                                      Al-Qaida  1381.5      NaN   \n",
       "55858                                         Hutus  1180.0      0.0   \n",
       "132993  Islamic State of Iraq and the Levant (ISIL)   670.0      0.0   \n",
       "76258      Communist Party of Nepal- Maoist (CPN-M)   518.0    216.0   \n",
       "136503  Islamic State of Iraq and the Levant (ISIL)   517.0      NaN   \n",
       "136045  Islamic State of Iraq and the Levant (ISIL)   500.0      NaN   \n",
       "6553                        Mujahedin-e Khalq (MEK)   422.0      0.0   \n",
       "90276                  Lord's Resistance Army (LRA)   400.0      NaN   \n",
       "\n",
       "        property_damage  \n",
       "133286                0  \n",
       "73054                 1  \n",
       "73055                 1  \n",
       "55858                 1  \n",
       "132993                1  \n",
       "76258                 1  \n",
       "136503                1  \n",
       "136045               -9  \n",
       "6553                  1  \n",
       "90276                 1  "
      ]
     },
     "execution_count": 14,
     "metadata": {},
     "output_type": "execute_result"
    }
   ],
   "source": [
    "dataset.nlargest(10, \"killed\")"
   ]
  },
  {
   "cell_type": "markdown",
   "metadata": {},
   "source": [
    "**Q:** Where in the most fatal accidents does Belgium stand?"
   ]
  },
  {
   "cell_type": "markdown",
   "metadata": {},
   "source": [
    "We'll make a new variable (container) `most_fatal` and use the `.reset_index()` function. This will reset the first column (so-called `index`) to start from 0 again"
   ]
  },
  {
   "cell_type": "code",
   "execution_count": 88,
   "metadata": {
    "collapsed": false
   },
   "outputs": [
    {
     "data": {
      "text/html": [
       "<div>\n",
       "<table border=\"1\" class=\"dataframe\">\n",
       "  <thead>\n",
       "    <tr style=\"text-align: right;\">\n",
       "      <th></th>\n",
       "      <th>index</th>\n",
       "      <th>year</th>\n",
       "      <th>month</th>\n",
       "      <th>country</th>\n",
       "      <th>region</th>\n",
       "      <th>city</th>\n",
       "      <th>success</th>\n",
       "      <th>attack_type</th>\n",
       "      <th>target</th>\n",
       "      <th>group</th>\n",
       "      <th>killed</th>\n",
       "      <th>wounded</th>\n",
       "      <th>property_damage</th>\n",
       "    </tr>\n",
       "  </thead>\n",
       "  <tbody>\n",
       "    <tr>\n",
       "      <th>0</th>\n",
       "      <td>133286</td>\n",
       "      <td>2014</td>\n",
       "      <td>6</td>\n",
       "      <td>Iraq</td>\n",
       "      <td>Middle East &amp; North Africa</td>\n",
       "      <td>Tikrit</td>\n",
       "      <td>1</td>\n",
       "      <td>Hostage Taking (Kidnapping)</td>\n",
       "      <td>Military</td>\n",
       "      <td>Islamic State of Iraq and the Levant (ISIL)</td>\n",
       "      <td>1500.0</td>\n",
       "      <td>NaN</td>\n",
       "      <td>0</td>\n",
       "    </tr>\n",
       "    <tr>\n",
       "      <th>1</th>\n",
       "      <td>73055</td>\n",
       "      <td>2001</td>\n",
       "      <td>9</td>\n",
       "      <td>United States</td>\n",
       "      <td>North America</td>\n",
       "      <td>New York City</td>\n",
       "      <td>1</td>\n",
       "      <td>Hijacking</td>\n",
       "      <td>Private Citizens &amp; Property</td>\n",
       "      <td>Al-Qaida</td>\n",
       "      <td>1381.5</td>\n",
       "      <td>NaN</td>\n",
       "      <td>1</td>\n",
       "    </tr>\n",
       "    <tr>\n",
       "      <th>2</th>\n",
       "      <td>73054</td>\n",
       "      <td>2001</td>\n",
       "      <td>9</td>\n",
       "      <td>United States</td>\n",
       "      <td>North America</td>\n",
       "      <td>New York City</td>\n",
       "      <td>1</td>\n",
       "      <td>Hijacking</td>\n",
       "      <td>Private Citizens &amp; Property</td>\n",
       "      <td>Al-Qaida</td>\n",
       "      <td>1381.5</td>\n",
       "      <td>NaN</td>\n",
       "      <td>1</td>\n",
       "    </tr>\n",
       "    <tr>\n",
       "      <th>3</th>\n",
       "      <td>55858</td>\n",
       "      <td>1994</td>\n",
       "      <td>4</td>\n",
       "      <td>Rwanda</td>\n",
       "      <td>Sub-Saharan Africa</td>\n",
       "      <td>Gikoro</td>\n",
       "      <td>1</td>\n",
       "      <td>Armed Assault</td>\n",
       "      <td>Private Citizens &amp; Property</td>\n",
       "      <td>Hutus</td>\n",
       "      <td>1180.0</td>\n",
       "      <td>0.0</td>\n",
       "      <td>1</td>\n",
       "    </tr>\n",
       "    <tr>\n",
       "      <th>4</th>\n",
       "      <td>132993</td>\n",
       "      <td>2014</td>\n",
       "      <td>6</td>\n",
       "      <td>Iraq</td>\n",
       "      <td>Middle East &amp; North Africa</td>\n",
       "      <td>Badush</td>\n",
       "      <td>1</td>\n",
       "      <td>Armed Assault</td>\n",
       "      <td>Police</td>\n",
       "      <td>Islamic State of Iraq and the Levant (ISIL)</td>\n",
       "      <td>670.0</td>\n",
       "      <td>0.0</td>\n",
       "      <td>1</td>\n",
       "    </tr>\n",
       "  </tbody>\n",
       "</table>\n",
       "</div>"
      ],
      "text/plain": [
       "    index  year  month        country                      region  \\\n",
       "0  133286  2014      6           Iraq  Middle East & North Africa   \n",
       "1   73055  2001      9  United States               North America   \n",
       "2   73054  2001      9  United States               North America   \n",
       "3   55858  1994      4         Rwanda          Sub-Saharan Africa   \n",
       "4  132993  2014      6           Iraq  Middle East & North Africa   \n",
       "\n",
       "            city  success                  attack_type  \\\n",
       "0         Tikrit        1  Hostage Taking (Kidnapping)   \n",
       "1  New York City        1                    Hijacking   \n",
       "2  New York City        1                    Hijacking   \n",
       "3         Gikoro        1                Armed Assault   \n",
       "4         Badush        1                Armed Assault   \n",
       "\n",
       "                        target                                        group  \\\n",
       "0                     Military  Islamic State of Iraq and the Levant (ISIL)   \n",
       "1  Private Citizens & Property                                     Al-Qaida   \n",
       "2  Private Citizens & Property                                     Al-Qaida   \n",
       "3  Private Citizens & Property                                        Hutus   \n",
       "4                       Police  Islamic State of Iraq and the Levant (ISIL)   \n",
       "\n",
       "   killed  wounded  property_damage  \n",
       "0  1500.0      NaN                0  \n",
       "1  1381.5      NaN                1  \n",
       "2  1381.5      NaN                1  \n",
       "3  1180.0      0.0                1  \n",
       "4   670.0      0.0                1  "
      ]
     },
     "execution_count": 88,
     "metadata": {},
     "output_type": "execute_result"
    }
   ],
   "source": [
    "most_fatal = dataset.sort_values(by='killed', ascending=False).reset_index()\n",
    "most_fatal.head()"
   ]
  },
  {
   "cell_type": "markdown",
   "metadata": {},
   "source": [
    "And we filter `Belgium` from the list."
   ]
  },
  {
   "cell_type": "code",
   "execution_count": 87,
   "metadata": {
    "collapsed": false
   },
   "outputs": [
    {
     "data": {
      "text/html": [
       "<div>\n",
       "<table border=\"1\" class=\"dataframe\">\n",
       "  <thead>\n",
       "    <tr style=\"text-align: right;\">\n",
       "      <th></th>\n",
       "      <th>index</th>\n",
       "      <th>year</th>\n",
       "      <th>month</th>\n",
       "      <th>country</th>\n",
       "      <th>region</th>\n",
       "      <th>city</th>\n",
       "      <th>success</th>\n",
       "      <th>attack_type</th>\n",
       "      <th>target</th>\n",
       "      <th>group</th>\n",
       "      <th>killed</th>\n",
       "      <th>wounded</th>\n",
       "      <th>property_damage</th>\n",
       "    </tr>\n",
       "  </thead>\n",
       "  <tbody>\n",
       "    <tr>\n",
       "      <th>10942</th>\n",
       "      <td>26537</td>\n",
       "      <td>1985</td>\n",
       "      <td>11</td>\n",
       "      <td>Belgium</td>\n",
       "      <td>Western Europe</td>\n",
       "      <td>Aalst</td>\n",
       "      <td>1</td>\n",
       "      <td>Armed Assault</td>\n",
       "      <td>Business</td>\n",
       "      <td>Crazy Brabant Killers</td>\n",
       "      <td>7.0</td>\n",
       "      <td>3.0</td>\n",
       "      <td>1</td>\n",
       "    </tr>\n",
       "    <tr>\n",
       "      <th>17351</th>\n",
       "      <td>64858</td>\n",
       "      <td>1997</td>\n",
       "      <td>3</td>\n",
       "      <td>Belgium</td>\n",
       "      <td>Western Europe</td>\n",
       "      <td>Brussels</td>\n",
       "      <td>1</td>\n",
       "      <td>Armed Assault</td>\n",
       "      <td>Business</td>\n",
       "      <td>Unknown</td>\n",
       "      <td>4.0</td>\n",
       "      <td>0.0</td>\n",
       "      <td>1</td>\n",
       "    </tr>\n",
       "    <tr>\n",
       "      <th>18734</th>\n",
       "      <td>132125</td>\n",
       "      <td>2014</td>\n",
       "      <td>5</td>\n",
       "      <td>Belgium</td>\n",
       "      <td>Western Europe</td>\n",
       "      <td>Brussels</td>\n",
       "      <td>1</td>\n",
       "      <td>Armed Assault</td>\n",
       "      <td>Private Citizens &amp; Property</td>\n",
       "      <td>Unaffiliated Individual(s)</td>\n",
       "      <td>4.0</td>\n",
       "      <td>0.0</td>\n",
       "      <td>0</td>\n",
       "    </tr>\n",
       "    <tr>\n",
       "      <th>24522</th>\n",
       "      <td>14528</td>\n",
       "      <td>1981</td>\n",
       "      <td>10</td>\n",
       "      <td>Belgium</td>\n",
       "      <td>Western Europe</td>\n",
       "      <td>Antwerp</td>\n",
       "      <td>1</td>\n",
       "      <td>Bombing/Explosion</td>\n",
       "      <td>Religious Figures/Institutions</td>\n",
       "      <td>Unknown</td>\n",
       "      <td>3.0</td>\n",
       "      <td>95.0</td>\n",
       "      <td>1</td>\n",
       "    </tr>\n",
       "    <tr>\n",
       "      <th>33137</th>\n",
       "      <td>24807</td>\n",
       "      <td>1985</td>\n",
       "      <td>5</td>\n",
       "      <td>Belgium</td>\n",
       "      <td>Western Europe</td>\n",
       "      <td>Brussels</td>\n",
       "      <td>1</td>\n",
       "      <td>Bombing/Explosion</td>\n",
       "      <td>Private Citizens &amp; Property</td>\n",
       "      <td>Communist Combattant Cells (CCC) (Belgium)</td>\n",
       "      <td>2.0</td>\n",
       "      <td>12.0</td>\n",
       "      <td>1</td>\n",
       "    </tr>\n",
       "  </tbody>\n",
       "</table>\n",
       "</div>"
      ],
      "text/plain": [
       "        index  year  month  country          region      city  success  \\\n",
       "10942   26537  1985     11  Belgium  Western Europe     Aalst        1   \n",
       "17351   64858  1997      3  Belgium  Western Europe  Brussels        1   \n",
       "18734  132125  2014      5  Belgium  Western Europe  Brussels        1   \n",
       "24522   14528  1981     10  Belgium  Western Europe   Antwerp        1   \n",
       "33137   24807  1985      5  Belgium  Western Europe  Brussels        1   \n",
       "\n",
       "             attack_type                          target  \\\n",
       "10942      Armed Assault                        Business   \n",
       "17351      Armed Assault                        Business   \n",
       "18734      Armed Assault     Private Citizens & Property   \n",
       "24522  Bombing/Explosion  Religious Figures/Institutions   \n",
       "33137  Bombing/Explosion     Private Citizens & Property   \n",
       "\n",
       "                                            group  killed  wounded  \\\n",
       "10942                       Crazy Brabant Killers     7.0      3.0   \n",
       "17351                                     Unknown     4.0      0.0   \n",
       "18734                  Unaffiliated Individual(s)     4.0      0.0   \n",
       "24522                                     Unknown     3.0     95.0   \n",
       "33137  Communist Combattant Cells (CCC) (Belgium)     2.0     12.0   \n",
       "\n",
       "       property_damage  \n",
       "10942                1  \n",
       "17351                1  \n",
       "18734                0  \n",
       "24522                1  \n",
       "33137                1  "
      ]
     },
     "execution_count": 87,
     "metadata": {},
     "output_type": "execute_result"
    }
   ],
   "source": [
    "most_fatal[most_fatal[\"country\"] == \"Belgium\"].head() #head is optional"
   ]
  },
  {
   "cell_type": "markdown",
   "metadata": {},
   "source": [
    "### `.value_counts()`\n",
    "`.value_counts()` is meaningful for counting types of categories (`object`) we have.\n",
    "\n",
    "#### questions:\n",
    "\n",
    "- How much ... are there in category ... ?"
   ]
  },
  {
   "cell_type": "markdown",
   "metadata": {},
   "source": [
    "**Q:** who is most often target of an attack?"
   ]
  },
  {
   "cell_type": "code",
   "execution_count": 4,
   "metadata": {
    "collapsed": false
   },
   "outputs": [
    {
     "ename": "KeyError",
     "evalue": "'target'",
     "output_type": "error",
     "traceback": [
      "\u001b[0;31m---------------------------------------------------------------------------\u001b[0m",
      "\u001b[0;31mKeyError\u001b[0m                                  Traceback (most recent call last)",
      "\u001b[0;32m/home/zufanka/anaconda3/lib/python3.5/site-packages/pandas/indexes/base.py\u001b[0m in \u001b[0;36mget_loc\u001b[0;34m(self, key, method, tolerance)\u001b[0m\n\u001b[1;32m   1944\u001b[0m             \u001b[0;32mtry\u001b[0m\u001b[0;34m:\u001b[0m\u001b[0;34m\u001b[0m\u001b[0m\n\u001b[0;32m-> 1945\u001b[0;31m                 \u001b[0;32mreturn\u001b[0m \u001b[0mself\u001b[0m\u001b[0;34m.\u001b[0m\u001b[0m_engine\u001b[0m\u001b[0;34m.\u001b[0m\u001b[0mget_loc\u001b[0m\u001b[0;34m(\u001b[0m\u001b[0mkey\u001b[0m\u001b[0;34m)\u001b[0m\u001b[0;34m\u001b[0m\u001b[0m\n\u001b[0m\u001b[1;32m   1946\u001b[0m             \u001b[0;32mexcept\u001b[0m \u001b[0mKeyError\u001b[0m\u001b[0;34m:\u001b[0m\u001b[0;34m\u001b[0m\u001b[0m\n",
      "\u001b[0;32mpandas/index.pyx\u001b[0m in \u001b[0;36mpandas.index.IndexEngine.get_loc (pandas/index.c:4154)\u001b[0;34m()\u001b[0m\n",
      "\u001b[0;32mpandas/index.pyx\u001b[0m in \u001b[0;36mpandas.index.IndexEngine.get_loc (pandas/index.c:4018)\u001b[0;34m()\u001b[0m\n",
      "\u001b[0;32mpandas/hashtable.pyx\u001b[0m in \u001b[0;36mpandas.hashtable.PyObjectHashTable.get_item (pandas/hashtable.c:12368)\u001b[0;34m()\u001b[0m\n",
      "\u001b[0;32mpandas/hashtable.pyx\u001b[0m in \u001b[0;36mpandas.hashtable.PyObjectHashTable.get_item (pandas/hashtable.c:12322)\u001b[0;34m()\u001b[0m\n",
      "\u001b[0;31mKeyError\u001b[0m: 'target'",
      "\nDuring handling of the above exception, another exception occurred:\n",
      "\u001b[0;31mKeyError\u001b[0m                                  Traceback (most recent call last)",
      "\u001b[0;32m<ipython-input-4-7a18b12c89dc>\u001b[0m in \u001b[0;36m<module>\u001b[0;34m()\u001b[0m\n\u001b[0;32m----> 1\u001b[0;31m \u001b[0mdataset\u001b[0m\u001b[0;34m[\u001b[0m\u001b[0;34m\"target\"\u001b[0m\u001b[0;34m]\u001b[0m\u001b[0;34m.\u001b[0m\u001b[0mvalue_counts\u001b[0m\u001b[0;34m(\u001b[0m\u001b[0;34m)\u001b[0m\u001b[0;34m\u001b[0m\u001b[0m\n\u001b[0m",
      "\u001b[0;32m/home/zufanka/anaconda3/lib/python3.5/site-packages/pandas/core/frame.py\u001b[0m in \u001b[0;36m__getitem__\u001b[0;34m(self, key)\u001b[0m\n\u001b[1;32m   1995\u001b[0m             \u001b[0;32mreturn\u001b[0m \u001b[0mself\u001b[0m\u001b[0;34m.\u001b[0m\u001b[0m_getitem_multilevel\u001b[0m\u001b[0;34m(\u001b[0m\u001b[0mkey\u001b[0m\u001b[0;34m)\u001b[0m\u001b[0;34m\u001b[0m\u001b[0m\n\u001b[1;32m   1996\u001b[0m         \u001b[0;32melse\u001b[0m\u001b[0;34m:\u001b[0m\u001b[0;34m\u001b[0m\u001b[0m\n\u001b[0;32m-> 1997\u001b[0;31m             \u001b[0;32mreturn\u001b[0m \u001b[0mself\u001b[0m\u001b[0;34m.\u001b[0m\u001b[0m_getitem_column\u001b[0m\u001b[0;34m(\u001b[0m\u001b[0mkey\u001b[0m\u001b[0;34m)\u001b[0m\u001b[0;34m\u001b[0m\u001b[0m\n\u001b[0m\u001b[1;32m   1998\u001b[0m \u001b[0;34m\u001b[0m\u001b[0m\n\u001b[1;32m   1999\u001b[0m     \u001b[0;32mdef\u001b[0m \u001b[0m_getitem_column\u001b[0m\u001b[0;34m(\u001b[0m\u001b[0mself\u001b[0m\u001b[0;34m,\u001b[0m \u001b[0mkey\u001b[0m\u001b[0;34m)\u001b[0m\u001b[0;34m:\u001b[0m\u001b[0;34m\u001b[0m\u001b[0m\n",
      "\u001b[0;32m/home/zufanka/anaconda3/lib/python3.5/site-packages/pandas/core/frame.py\u001b[0m in \u001b[0;36m_getitem_column\u001b[0;34m(self, key)\u001b[0m\n\u001b[1;32m   2002\u001b[0m         \u001b[0;31m# get column\u001b[0m\u001b[0;34m\u001b[0m\u001b[0;34m\u001b[0m\u001b[0m\n\u001b[1;32m   2003\u001b[0m         \u001b[0;32mif\u001b[0m \u001b[0mself\u001b[0m\u001b[0;34m.\u001b[0m\u001b[0mcolumns\u001b[0m\u001b[0;34m.\u001b[0m\u001b[0mis_unique\u001b[0m\u001b[0;34m:\u001b[0m\u001b[0;34m\u001b[0m\u001b[0m\n\u001b[0;32m-> 2004\u001b[0;31m             \u001b[0;32mreturn\u001b[0m \u001b[0mself\u001b[0m\u001b[0;34m.\u001b[0m\u001b[0m_get_item_cache\u001b[0m\u001b[0;34m(\u001b[0m\u001b[0mkey\u001b[0m\u001b[0;34m)\u001b[0m\u001b[0;34m\u001b[0m\u001b[0m\n\u001b[0m\u001b[1;32m   2005\u001b[0m \u001b[0;34m\u001b[0m\u001b[0m\n\u001b[1;32m   2006\u001b[0m         \u001b[0;31m# duplicate columns & possible reduce dimensionality\u001b[0m\u001b[0;34m\u001b[0m\u001b[0;34m\u001b[0m\u001b[0m\n",
      "\u001b[0;32m/home/zufanka/anaconda3/lib/python3.5/site-packages/pandas/core/generic.py\u001b[0m in \u001b[0;36m_get_item_cache\u001b[0;34m(self, item)\u001b[0m\n\u001b[1;32m   1348\u001b[0m         \u001b[0mres\u001b[0m \u001b[0;34m=\u001b[0m \u001b[0mcache\u001b[0m\u001b[0;34m.\u001b[0m\u001b[0mget\u001b[0m\u001b[0;34m(\u001b[0m\u001b[0mitem\u001b[0m\u001b[0;34m)\u001b[0m\u001b[0;34m\u001b[0m\u001b[0m\n\u001b[1;32m   1349\u001b[0m         \u001b[0;32mif\u001b[0m \u001b[0mres\u001b[0m \u001b[0;32mis\u001b[0m \u001b[0;32mNone\u001b[0m\u001b[0;34m:\u001b[0m\u001b[0;34m\u001b[0m\u001b[0m\n\u001b[0;32m-> 1350\u001b[0;31m             \u001b[0mvalues\u001b[0m \u001b[0;34m=\u001b[0m \u001b[0mself\u001b[0m\u001b[0;34m.\u001b[0m\u001b[0m_data\u001b[0m\u001b[0;34m.\u001b[0m\u001b[0mget\u001b[0m\u001b[0;34m(\u001b[0m\u001b[0mitem\u001b[0m\u001b[0;34m)\u001b[0m\u001b[0;34m\u001b[0m\u001b[0m\n\u001b[0m\u001b[1;32m   1351\u001b[0m             \u001b[0mres\u001b[0m \u001b[0;34m=\u001b[0m \u001b[0mself\u001b[0m\u001b[0;34m.\u001b[0m\u001b[0m_box_item_values\u001b[0m\u001b[0;34m(\u001b[0m\u001b[0mitem\u001b[0m\u001b[0;34m,\u001b[0m \u001b[0mvalues\u001b[0m\u001b[0;34m)\u001b[0m\u001b[0;34m\u001b[0m\u001b[0m\n\u001b[1;32m   1352\u001b[0m             \u001b[0mcache\u001b[0m\u001b[0;34m[\u001b[0m\u001b[0mitem\u001b[0m\u001b[0;34m]\u001b[0m \u001b[0;34m=\u001b[0m \u001b[0mres\u001b[0m\u001b[0;34m\u001b[0m\u001b[0m\n",
      "\u001b[0;32m/home/zufanka/anaconda3/lib/python3.5/site-packages/pandas/core/internals.py\u001b[0m in \u001b[0;36mget\u001b[0;34m(self, item, fastpath)\u001b[0m\n\u001b[1;32m   3288\u001b[0m \u001b[0;34m\u001b[0m\u001b[0m\n\u001b[1;32m   3289\u001b[0m             \u001b[0;32mif\u001b[0m \u001b[0;32mnot\u001b[0m \u001b[0misnull\u001b[0m\u001b[0;34m(\u001b[0m\u001b[0mitem\u001b[0m\u001b[0;34m)\u001b[0m\u001b[0;34m:\u001b[0m\u001b[0;34m\u001b[0m\u001b[0m\n\u001b[0;32m-> 3290\u001b[0;31m                 \u001b[0mloc\u001b[0m \u001b[0;34m=\u001b[0m \u001b[0mself\u001b[0m\u001b[0;34m.\u001b[0m\u001b[0mitems\u001b[0m\u001b[0;34m.\u001b[0m\u001b[0mget_loc\u001b[0m\u001b[0;34m(\u001b[0m\u001b[0mitem\u001b[0m\u001b[0;34m)\u001b[0m\u001b[0;34m\u001b[0m\u001b[0m\n\u001b[0m\u001b[1;32m   3291\u001b[0m             \u001b[0;32melse\u001b[0m\u001b[0;34m:\u001b[0m\u001b[0;34m\u001b[0m\u001b[0m\n\u001b[1;32m   3292\u001b[0m                 \u001b[0mindexer\u001b[0m \u001b[0;34m=\u001b[0m \u001b[0mnp\u001b[0m\u001b[0;34m.\u001b[0m\u001b[0marange\u001b[0m\u001b[0;34m(\u001b[0m\u001b[0mlen\u001b[0m\u001b[0;34m(\u001b[0m\u001b[0mself\u001b[0m\u001b[0;34m.\u001b[0m\u001b[0mitems\u001b[0m\u001b[0;34m)\u001b[0m\u001b[0;34m)\u001b[0m\u001b[0;34m[\u001b[0m\u001b[0misnull\u001b[0m\u001b[0;34m(\u001b[0m\u001b[0mself\u001b[0m\u001b[0;34m.\u001b[0m\u001b[0mitems\u001b[0m\u001b[0;34m)\u001b[0m\u001b[0;34m]\u001b[0m\u001b[0;34m\u001b[0m\u001b[0m\n",
      "\u001b[0;32m/home/zufanka/anaconda3/lib/python3.5/site-packages/pandas/indexes/base.py\u001b[0m in \u001b[0;36mget_loc\u001b[0;34m(self, key, method, tolerance)\u001b[0m\n\u001b[1;32m   1945\u001b[0m                 \u001b[0;32mreturn\u001b[0m \u001b[0mself\u001b[0m\u001b[0;34m.\u001b[0m\u001b[0m_engine\u001b[0m\u001b[0;34m.\u001b[0m\u001b[0mget_loc\u001b[0m\u001b[0;34m(\u001b[0m\u001b[0mkey\u001b[0m\u001b[0;34m)\u001b[0m\u001b[0;34m\u001b[0m\u001b[0m\n\u001b[1;32m   1946\u001b[0m             \u001b[0;32mexcept\u001b[0m \u001b[0mKeyError\u001b[0m\u001b[0;34m:\u001b[0m\u001b[0;34m\u001b[0m\u001b[0m\n\u001b[0;32m-> 1947\u001b[0;31m                 \u001b[0;32mreturn\u001b[0m \u001b[0mself\u001b[0m\u001b[0;34m.\u001b[0m\u001b[0m_engine\u001b[0m\u001b[0;34m.\u001b[0m\u001b[0mget_loc\u001b[0m\u001b[0;34m(\u001b[0m\u001b[0mself\u001b[0m\u001b[0;34m.\u001b[0m\u001b[0m_maybe_cast_indexer\u001b[0m\u001b[0;34m(\u001b[0m\u001b[0mkey\u001b[0m\u001b[0;34m)\u001b[0m\u001b[0;34m)\u001b[0m\u001b[0;34m\u001b[0m\u001b[0m\n\u001b[0m\u001b[1;32m   1948\u001b[0m \u001b[0;34m\u001b[0m\u001b[0m\n\u001b[1;32m   1949\u001b[0m         \u001b[0mindexer\u001b[0m \u001b[0;34m=\u001b[0m \u001b[0mself\u001b[0m\u001b[0;34m.\u001b[0m\u001b[0mget_indexer\u001b[0m\u001b[0;34m(\u001b[0m\u001b[0;34m[\u001b[0m\u001b[0mkey\u001b[0m\u001b[0;34m]\u001b[0m\u001b[0;34m,\u001b[0m \u001b[0mmethod\u001b[0m\u001b[0;34m=\u001b[0m\u001b[0mmethod\u001b[0m\u001b[0;34m,\u001b[0m \u001b[0mtolerance\u001b[0m\u001b[0;34m=\u001b[0m\u001b[0mtolerance\u001b[0m\u001b[0;34m)\u001b[0m\u001b[0;34m\u001b[0m\u001b[0m\n",
      "\u001b[0;32mpandas/index.pyx\u001b[0m in \u001b[0;36mpandas.index.IndexEngine.get_loc (pandas/index.c:4154)\u001b[0;34m()\u001b[0m\n",
      "\u001b[0;32mpandas/index.pyx\u001b[0m in \u001b[0;36mpandas.index.IndexEngine.get_loc (pandas/index.c:4018)\u001b[0;34m()\u001b[0m\n",
      "\u001b[0;32mpandas/hashtable.pyx\u001b[0m in \u001b[0;36mpandas.hashtable.PyObjectHashTable.get_item (pandas/hashtable.c:12368)\u001b[0;34m()\u001b[0m\n",
      "\u001b[0;32mpandas/hashtable.pyx\u001b[0m in \u001b[0;36mpandas.hashtable.PyObjectHashTable.get_item (pandas/hashtable.c:12322)\u001b[0;34m()\u001b[0m\n",
      "\u001b[0;31mKeyError\u001b[0m: 'target'"
     ]
    }
   ],
   "source": [
    "dataset[\"target\"].value_counts()"
   ]
  },
  {
   "cell_type": "markdown",
   "metadata": {},
   "source": [
    "Visualizing numbers makes interpretation a lot easier."
   ]
  },
  {
   "cell_type": "code",
   "execution_count": 33,
   "metadata": {
    "collapsed": false
   },
   "outputs": [
    {
     "data": {
      "text/plain": [
       "<matplotlib.axes._subplots.AxesSubplot at 0x7f9f3da7b6a0>"
      ]
     },
     "execution_count": 33,
     "metadata": {},
     "output_type": "execute_result"
    },
    {
     "data": {
      "image/png": "[encoded data removed]",
      "text/plain": [
       "<matplotlib.figure.Figure at 0x7f9f3da80d30>"
      ]
     },
     "metadata": {},
     "output_type": "display_data"
    }
   ],
   "source": [
    "dataset[\"target\"].value_counts().plot(kind=\"bar\")"
   ]
  },
  {
   "cell_type": "markdown",
   "metadata": {},
   "source": [
    "### `.groupby()`\n",
    "`.groupby()` is meaningful for grouping categories (`object`). You can use different functions for the numeric values such as `.sum()`, `.count()`, `.mean()`, `.first()`, `.max()`, `.min()`, `.mode()`, `.median()`, ....\n",
    "\n",
    "#### questions:\n",
    "\n",
    "- How much is ... in category ... ?\n",
    "- What is the mean of values in category ... ?"
   ]
  },
  {
   "cell_type": "markdown",
   "metadata": {},
   "source": [
    "**Q:** What targets had the most casualties?"
   ]
  },
  {
   "cell_type": "code",
   "execution_count": 38,
   "metadata": {
    "collapsed": false
   },
   "outputs": [
    {
     "data": {
      "text/plain": [
       "target\n",
       "Private Citizens & Property       117262.870000\n",
       "Military                           86367.680000\n",
       "Police                             44541.345000\n",
       "Government (General)               23324.845000\n",
       "Business                           20065.710000\n",
       "Transportation                     13156.060000\n",
       "Religious Figures/Institutions     11690.159998\n",
       "Terrorists/Non-State Militia        7373.670000\n",
       "Airports & Aircraft                 3570.490000\n",
       "Violent Political Party             3497.040000\n",
       "Educational Institution             3417.160000\n",
       "Unknown                             3392.340000\n",
       "Government (Diplomatic)             2522.160000\n",
       "Other                               2411.500000\n",
       "Utilities                           1632.600000\n",
       "Journalists & Media                 1325.170000\n",
       "Maritime                            1139.200000\n",
       "NGO                                  886.000000\n",
       "Tourists                             716.000000\n",
       "Food or Water Supply                 281.000000\n",
       "Telecommunication                    176.000000\n",
       "Abortion Related                      10.000000\n",
       "Name: killed, dtype: float64"
      ]
     },
     "execution_count": 38,
     "metadata": {},
     "output_type": "execute_result"
    }
   ],
   "source": [
    "dataset.groupby(\"target\").sum()[\"killed\"].sort_values(ascending=False)"
   ]
  },
  {
   "cell_type": "markdown",
   "metadata": {},
   "source": [
    "This is logical given there most attacks on these targets. Let's have a look at the `mean` casualties per target instead of the `.sum`"
   ]
  },
  {
   "cell_type": "code",
   "execution_count": 110,
   "metadata": {
    "collapsed": false
   },
   "outputs": [
    {
     "data": {
      "text/plain": [
       "target\n",
       "Other                             5.556452\n",
       "Maritime                          4.112635\n",
       "Military                          4.112159\n",
       "Private Citizens & Property       3.442125\n",
       "Religious Figures/Institutions    3.095911\n",
       "Airports & Aircraft               2.990360\n",
       "Terrorists/Non-State Militia      2.980465\n",
       "Violent Political Party           2.206334\n",
       "Transportation                    2.181768\n",
       "Police                            2.166092\n",
       "Tourists                          1.785536\n",
       "Government (General)              1.267792\n",
       "Business                          1.150557\n",
       "Food or Water Supply              1.097656\n",
       "NGO                               1.096535\n",
       "Unknown                           0.910207\n",
       "Educational Institution           0.902578\n",
       "Government (Diplomatic)           0.796639\n",
       "Journalists & Media               0.540224\n",
       "Utilities                         0.335788\n",
       "Telecommunication                 0.202532\n",
       "Abortion Related                  0.038760\n",
       "Name: killed, dtype: float64"
      ]
     },
     "execution_count": 110,
     "metadata": {},
     "output_type": "execute_result"
    }
   ],
   "source": [
    "dataset.groupby(\"target\").mean()[\"killed\"].sort_values(ascending=False)"
   ]
  },
  {
   "cell_type": "markdown",
   "metadata": {},
   "source": [
    "**Q:** Are the attacks getting more fatal?"
   ]
  },
  {
   "cell_type": "code",
   "execution_count": 117,
   "metadata": {
    "collapsed": false
   },
   "outputs": [
    {
     "data": {
      "text/plain": [
       "<matplotlib.axes._subplots.AxesSubplot at 0x7f9f2b2fce80>"
      ]
     },
     "execution_count": 117,
     "metadata": {},
     "output_type": "execute_result"
    },
    {
     "data": {
      "image/png": "[encoded data removed]",
      "text/plain": [
       "<matplotlib.figure.Figure at 0x7f9f2b306320>"
      ]
     },
     "metadata": {},
     "output_type": "display_data"
    }
   ],
   "source": [
    "dataset.groupby(\"year\").sum()[\"killed\"].plot()"
   ]
  },
  {
   "cell_type": "markdown",
   "metadata": {},
   "source": [
    "It seems like it.<br>\n",
    "**Q:** But where do they happen most?"
   ]
  },
  {
   "cell_type": "code",
   "execution_count": 60,
   "metadata": {
    "collapsed": false
   },
   "outputs": [
    {
     "data": {
      "text/plain": [
       "country\n",
       "Iraq           58855.0\n",
       "Afghanistan    27018.0\n",
       "Pakistan       21597.0\n",
       "Nigeria        18509.0\n",
       "India          18317.0\n",
       "Sri Lanka      15505.0\n",
       "Colombia       14562.0\n",
       "Peru           12752.0\n",
       "El Salvador    12053.0\n",
       "Algeria        11082.0\n",
       "Nicaragua      10598.0\n",
       "Syria          10363.0\n",
       "Philippines     8645.0\n",
       "Somalia         6695.0\n",
       "Yemen           6495.0\n",
       "Turkey          5659.0\n",
       "Guatemala       5167.0\n",
       "Russia          4182.0\n",
       "Burundi         4108.0\n",
       "Lebanon         4011.0\n",
       "Name: killed, dtype: float64"
      ]
     },
     "execution_count": 60,
     "metadata": {},
     "output_type": "execute_result"
    }
   ],
   "source": [
    "dataset.groupby(\"country\").sum()[\"killed\"].sort_values(ascending=False).head(20)"
   ]
  },
  {
   "cell_type": "markdown",
   "metadata": {},
   "source": [
    "We see that Iraq and Afghanistan get the most fatal attacks. But to filter out values (top 5 from the list above) and a column (`year` in this case) to plot this in time, we need to filter out these countries."
   ]
  },
  {
   "cell_type": "markdown",
   "metadata": {},
   "source": [
    "### `.loc()` and filtering columns"
   ]
  },
  {
   "cell_type": "markdown",
   "metadata": {},
   "source": [
    "Let's say we would like to look at attacks where Journalists & Media were the target. This is the easier filtering where you get the see all the columns."
   ]
  },
  {
   "cell_type": "code",
   "execution_count": 61,
   "metadata": {
    "collapsed": false
   },
   "outputs": [
    {
     "data": {
      "text/html": [
       "<div>\n",
       "<table border=\"1\" class=\"dataframe\">\n",
       "  <thead>\n",
       "    <tr style=\"text-align: right;\">\n",
       "      <th></th>\n",
       "      <th>year</th>\n",
       "      <th>month</th>\n",
       "      <th>country</th>\n",
       "      <th>region</th>\n",
       "      <th>city</th>\n",
       "      <th>success</th>\n",
       "      <th>attack_type</th>\n",
       "      <th>target</th>\n",
       "      <th>group</th>\n",
       "      <th>killed</th>\n",
       "      <th>wounded</th>\n",
       "      <th>property_damage</th>\n",
       "    </tr>\n",
       "  </thead>\n",
       "  <tbody>\n",
       "    <tr>\n",
       "      <th>2</th>\n",
       "      <td>1970</td>\n",
       "      <td>1</td>\n",
       "      <td>Philippines</td>\n",
       "      <td>Southeast Asia</td>\n",
       "      <td>Unknown</td>\n",
       "      <td>1</td>\n",
       "      <td>Assassination</td>\n",
       "      <td>Journalists &amp; Media</td>\n",
       "      <td>Unknown</td>\n",
       "      <td>1.0</td>\n",
       "      <td>0.0</td>\n",
       "      <td>0</td>\n",
       "    </tr>\n",
       "    <tr>\n",
       "      <th>132</th>\n",
       "      <td>1970</td>\n",
       "      <td>3</td>\n",
       "      <td>Ethiopia</td>\n",
       "      <td>Sub-Saharan Africa</td>\n",
       "      <td>Unknown</td>\n",
       "      <td>1</td>\n",
       "      <td>Hostage Taking (Kidnapping)</td>\n",
       "      <td>Journalists &amp; Media</td>\n",
       "      <td>Eritrean Liberation Front</td>\n",
       "      <td>0.0</td>\n",
       "      <td>0.0</td>\n",
       "      <td>0</td>\n",
       "    </tr>\n",
       "    <tr>\n",
       "      <th>402</th>\n",
       "      <td>1970</td>\n",
       "      <td>7</td>\n",
       "      <td>United States</td>\n",
       "      <td>North America</td>\n",
       "      <td>Petaluma</td>\n",
       "      <td>1</td>\n",
       "      <td>Facility/Infrastructure Attack</td>\n",
       "      <td>Journalists &amp; Media</td>\n",
       "      <td>Strikers</td>\n",
       "      <td>0.0</td>\n",
       "      <td>0.0</td>\n",
       "      <td>1</td>\n",
       "    </tr>\n",
       "    <tr>\n",
       "      <th>437</th>\n",
       "      <td>1970</td>\n",
       "      <td>7</td>\n",
       "      <td>Spain</td>\n",
       "      <td>Western Europe</td>\n",
       "      <td>Pamplona</td>\n",
       "      <td>1</td>\n",
       "      <td>Bombing/Explosion</td>\n",
       "      <td>Journalists &amp; Media</td>\n",
       "      <td>GAC</td>\n",
       "      <td>NaN</td>\n",
       "      <td>NaN</td>\n",
       "      <td>1</td>\n",
       "    </tr>\n",
       "    <tr>\n",
       "      <th>509</th>\n",
       "      <td>1970</td>\n",
       "      <td>9</td>\n",
       "      <td>United States</td>\n",
       "      <td>North America</td>\n",
       "      <td>Madison</td>\n",
       "      <td>0</td>\n",
       "      <td>Facility/Infrastructure Attack</td>\n",
       "      <td>Journalists &amp; Media</td>\n",
       "      <td>Right-Wing Extremists</td>\n",
       "      <td>0.0</td>\n",
       "      <td>0.0</td>\n",
       "      <td>0</td>\n",
       "    </tr>\n",
       "  </tbody>\n",
       "</table>\n",
       "</div>"
      ],
      "text/plain": [
       "     year  month        country              region      city  success  \\\n",
       "2    1970      1    Philippines      Southeast Asia   Unknown        1   \n",
       "132  1970      3       Ethiopia  Sub-Saharan Africa   Unknown        1   \n",
       "402  1970      7  United States       North America  Petaluma        1   \n",
       "437  1970      7          Spain      Western Europe  Pamplona        1   \n",
       "509  1970      9  United States       North America   Madison        0   \n",
       "\n",
       "                        attack_type               target  \\\n",
       "2                     Assassination  Journalists & Media   \n",
       "132     Hostage Taking (Kidnapping)  Journalists & Media   \n",
       "402  Facility/Infrastructure Attack  Journalists & Media   \n",
       "437               Bombing/Explosion  Journalists & Media   \n",
       "509  Facility/Infrastructure Attack  Journalists & Media   \n",
       "\n",
       "                         group  killed  wounded  property_damage  \n",
       "2                      Unknown     1.0      0.0                0  \n",
       "132  Eritrean Liberation Front     0.0      0.0                0  \n",
       "402                   Strikers     0.0      0.0                1  \n",
       "437                        GAC     NaN      NaN                1  \n",
       "509      Right-Wing Extremists     0.0      0.0                0  "
      ]
     },
     "execution_count": 61,
     "metadata": {},
     "output_type": "execute_result"
    }
   ],
   "source": [
    "dataset[dataset[\"target\"] == \"Journalists & Media\"].head()"
   ]
  },
  {
   "cell_type": "markdown",
   "metadata": {},
   "source": [
    "Of course we can not make sense from such a big list. We need to ask a question and filter out only one column"
   ]
  },
  {
   "cell_type": "markdown",
   "metadata": {},
   "source": [
    "**Q:** In which countries were journalists most often a target of an attack?"
   ]
  },
  {
   "cell_type": "markdown",
   "metadata": {},
   "source": [
    "We use `.loc` in order to do this. First we do our filtering by `dataset[\"target\"] == \"Journalists & Media\"` and afterwards we chose the column `country`."
   ]
  },
  {
   "cell_type": "code",
   "execution_count": 62,
   "metadata": {
    "collapsed": false
   },
   "outputs": [
    {
     "data": {
      "text/plain": [
       "Colombia         192\n",
       "Peru             153\n",
       "Iraq             150\n",
       "Pakistan         149\n",
       "El Salvador      128\n",
       "Somalia           88\n",
       "Philippines       88\n",
       "Chile             83\n",
       "Spain             74\n",
       "Italy             74\n",
       "Guatemala         72\n",
       "Algeria           70\n",
       "India             68\n",
       "Lebanon           62\n",
       "Libya             62\n",
       "Afghanistan       60\n",
       "Turkey            59\n",
       "Syria             59\n",
       "Yemen             57\n",
       "United States     56\n",
       "Name: country, dtype: int64"
      ]
     },
     "execution_count": 62,
     "metadata": {},
     "output_type": "execute_result"
    }
   ],
   "source": [
    "dataset.loc[dataset[\"target\"] == \"Journalists & Media\", \"country\"].value_counts().head(20)"
   ]
  },
  {
   "cell_type": "markdown",
   "metadata": {},
   "source": [
    "Let's plot it too!"
   ]
  },
  {
   "cell_type": "code",
   "execution_count": 20,
   "metadata": {
    "collapsed": false
   },
   "outputs": [
    {
     "data": {
      "text/plain": [
       "<matplotlib.axes._subplots.AxesSubplot at 0x7f9f3dac2940>"
      ]
     },
     "execution_count": 20,
     "metadata": {},
     "output_type": "execute_result"
    },
    {
     "data": {
      "image/png": "[encoded data removed]",
      "text/plain": [
       "<matplotlib.figure.Figure at 0x7f9f3db38470>"
      ]
     },
     "metadata": {},
     "output_type": "display_data"
    }
   ],
   "source": [
    "dataset.loc[dataset[\"target\"] == \"Journalists & Media\", \"country\"].value_counts().head(20).plot(kind=\"bar\")"
   ]
  },
  {
   "cell_type": "markdown",
   "metadata": {},
   "source": [
    "Not the greatest country to be a journalist.<br>SO how about filtering more than one value, such as the 5 countries where most victims fall to terrorist attacks?"
   ]
  },
  {
   "cell_type": "markdown",
   "metadata": {},
   "source": [
    "Instead of `==` we use function `.isin()`. Why? Well sometimes it is just to annoy you :) But don't worry. You can google all of this."
   ]
  },
  {
   "cell_type": "code",
   "execution_count": 111,
   "metadata": {
    "collapsed": false
   },
   "outputs": [
    {
     "data": {
      "image/png": "[encoded data removed]",
      "text/plain": [
       "<matplotlib.figure.Figure at 0x7f9f325b6710>"
      ]
     },
     "metadata": {},
     "output_type": "display_data"
    }
   ],
   "source": [
    "dataset[dataset[\"country\"]\n",
    "        .isin([\"Iraq\", \"Afghanistan\", \"Pakistan\", \"Nigeria\", \"India\"])].groupby([\"year\"]).sum()[\"killed\"].plot()"
   ]
  }
 ],
 "metadata": {
  "anaconda-cloud": {},
  "kernelspec": {
   "display_name": "Python [conda root]",
   "language": "python",
   "name": "conda-root-py"
  },
  "language_info": {
   "codemirror_mode": {
    "name": "ipython",
    "version": 3
   },
   "file_extension": ".py",
   "mimetype": "text/x-python",
   "name": "python",
   "nbconvert_exporter": "python",
   "pygments_lexer": "ipython3",
   "version": "3.5.2"
  }
 },
 "nbformat": 4,
 "nbformat_minor": 1
}
